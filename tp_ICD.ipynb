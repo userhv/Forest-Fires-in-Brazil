{
 "cells": [
  {
   "cell_type": "markdown",
   "metadata": {
    "id": "YxShwDZET5BR"
   },
   "source": [
    "# Equipe - Forest Fires in Brazil\n",
    "\n",
    "Helio Victor Flexa dos Santos - 2019006680\n",
    "\n",
    "Matheus Prado Miranda - 2019007023\n",
    "\n",
    "Kaio Lucas de Sá - 2019006850\n",
    "\n",
    "Vitor de Oliveira Mafra - 2018046831\n"
   ]
  },
  {
   "cell_type": "markdown",
   "metadata": {},
   "source": [
    "**Apresentação final**: https://youtu.be/exMxEBNdZ8k"
   ]
  },
  {
   "cell_type": "code",
   "execution_count": null,
   "metadata": {
    "id": "j9BIfmFjTQ-Y"
   },
   "outputs": [],
   "source": [
    "import numpy as np\n",
    "import matplotlib.pyplot as plt\n",
    "import pandas as pd\n",
    "import scipy.stats as ss\n",
    "import seaborn as sns\n",
    "import plotly\n",
    "import plotly.express as px\n",
    "import json\n",
    "from urllib.request import urlopen"
   ]
  },
  {
   "cell_type": "code",
   "execution_count": null,
   "metadata": {
    "id": "DzRFMuR-VxzM"
   },
   "outputs": [],
   "source": [
    "from sklearn.linear_model import LinearRegression\n",
    "from sklearn.metrics import mean_squared_error\n",
    "from sklearn.metrics import mean_absolute_error\n",
    "from sklearn.kernel_ridge import KernelRidge\n",
    "from sklearn import linear_model\n",
    "from sklearn.metrics import confusion_matrix\n",
    "from sklearn.metrics import precision_recall_fscore_support\n",
    "from sklearn.model_selection import StratifiedKFold\n",
    "from sklearn.metrics import classification_report\n",
    "from sklearn.metrics import accuracy_score\n",
    "from sklearn.metrics import precision_score\n",
    "from sklearn.neighbors import KNeighborsClassifier\n",
    "from sklearn.datasets import load_iris\n",
    "from sklearn.model_selection import train_test_split\n",
    "\n",
    "plt.ion()"
   ]
  },
  {
   "cell_type": "code",
   "execution_count": null,
   "metadata": {
    "id": "O7f6Cb3PT4ol"
   },
   "outputs": [],
   "source": [
    "def despine(ax=None):\n",
    "    if ax is None:\n",
    "        ax = plt.gca()\n",
    "    # Hide the right and top spines\n",
    "    ax.spines['right'].set_visible(False)\n",
    "    ax.spines['top'].set_visible(False)\n",
    "\n",
    "    # Only show ticks on the left and bottom spines\n",
    "    ax.yaxis.set_ticks_position('left')\n",
    "    ax.xaxis.set_ticks_position('bottom')"
   ]
  },
  {
   "cell_type": "markdown",
   "metadata": {
    "id": "c9T8w02iFLYh"
   },
   "source": [
    "### Um breve prefácio"
   ]
  },
  {
   "cell_type": "code",
   "execution_count": null,
   "metadata": {
    "colab": {
     "base_uri": "https://localhost:8080/",
     "height": 204
    },
    "id": "_HGoRiG3FeuC",
    "outputId": "cc0138f6-24da-4a75-f42d-2f67370f3336"
   },
   "outputs": [
    {
     "data": {
      "text/html": [
       "<div>\n",
       "<style scoped>\n",
       "    .dataframe tbody tr th:only-of-type {\n",
       "        vertical-align: middle;\n",
       "    }\n",
       "\n",
       "    .dataframe tbody tr th {\n",
       "        vertical-align: top;\n",
       "    }\n",
       "\n",
       "    .dataframe thead th {\n",
       "        text-align: right;\n",
       "    }\n",
       "</style>\n",
       "<table border=\"1\" class=\"dataframe\">\n",
       "  <thead>\n",
       "    <tr style=\"text-align: right;\">\n",
       "      <th></th>\n",
       "      <th>year</th>\n",
       "      <th>state</th>\n",
       "      <th>month</th>\n",
       "      <th>number</th>\n",
       "      <th>date</th>\n",
       "    </tr>\n",
       "  </thead>\n",
       "  <tbody>\n",
       "    <tr>\n",
       "      <th>0</th>\n",
       "      <td>1998</td>\n",
       "      <td>Acre</td>\n",
       "      <td>Janeiro</td>\n",
       "      <td>0.0</td>\n",
       "      <td>1998-01-01</td>\n",
       "    </tr>\n",
       "    <tr>\n",
       "      <th>1</th>\n",
       "      <td>1999</td>\n",
       "      <td>Acre</td>\n",
       "      <td>Janeiro</td>\n",
       "      <td>0.0</td>\n",
       "      <td>1999-01-01</td>\n",
       "    </tr>\n",
       "    <tr>\n",
       "      <th>2</th>\n",
       "      <td>2000</td>\n",
       "      <td>Acre</td>\n",
       "      <td>Janeiro</td>\n",
       "      <td>0.0</td>\n",
       "      <td>2000-01-01</td>\n",
       "    </tr>\n",
       "    <tr>\n",
       "      <th>3</th>\n",
       "      <td>2001</td>\n",
       "      <td>Acre</td>\n",
       "      <td>Janeiro</td>\n",
       "      <td>0.0</td>\n",
       "      <td>2001-01-01</td>\n",
       "    </tr>\n",
       "    <tr>\n",
       "      <th>4</th>\n",
       "      <td>2002</td>\n",
       "      <td>Acre</td>\n",
       "      <td>Janeiro</td>\n",
       "      <td>0.0</td>\n",
       "      <td>2002-01-01</td>\n",
       "    </tr>\n",
       "  </tbody>\n",
       "</table>\n",
       "</div>"
      ],
      "text/plain": [
       "   year state    month  number        date\n",
       "0  1998  Acre  Janeiro     0.0  1998-01-01\n",
       "1  1999  Acre  Janeiro     0.0  1999-01-01\n",
       "2  2000  Acre  Janeiro     0.0  2000-01-01\n",
       "3  2001  Acre  Janeiro     0.0  2001-01-01\n",
       "4  2002  Acre  Janeiro     0.0  2002-01-01"
      ]
     },
     "execution_count": 4,
     "metadata": {},
     "output_type": "execute_result"
    }
   ],
   "source": [
    "df_original = pd.read_csv('https://raw.githubusercontent.com/userhv/Forest-Fires-in-Brazil/main/database/amazon.csv', encoding='ISO-8859-1')\n",
    "df_original.head()"
   ]
  },
  {
   "cell_type": "code",
   "execution_count": null,
   "metadata": {
    "colab": {
     "base_uri": "https://localhost:8080/"
    },
    "id": "RevF6ZPvFnQv",
    "outputId": "dd92f0d5-a26e-4a6c-f66c-e42308c7aab3"
   },
   "outputs": [
    {
     "data": {
      "text/plain": [
       "array([  0.   ,  10.   ,  12.   , ...,   2.032, 833.   , 623.   ])"
      ]
     },
     "execution_count": 5,
     "metadata": {},
     "output_type": "execute_result"
    }
   ],
   "source": [
    "df_original['number'].unique()"
   ]
  },
  {
   "cell_type": "code",
   "execution_count": null,
   "metadata": {
    "colab": {
     "base_uri": "https://localhost:8080/"
    },
    "id": "D4h9lkC_FnUb",
    "outputId": "3fa5128e-0c26-4bc7-a270-4ea9faed6e16"
   },
   "outputs": [
    {
     "data": {
      "text/plain": [
       "array(['Acre', 'Alagoas', 'Amapa', 'Amazonas', 'Bahia', 'Ceara',\n",
       "       'Distrito Federal', 'Espirito Santo', 'Goias', 'Maranhao',\n",
       "       'Mato Grosso', 'Minas Gerais', 'Pará', 'Paraiba', 'Pernambuco',\n",
       "       'Piau', 'Rio', 'Rondonia', 'Roraima', 'Santa Catarina',\n",
       "       'Sao Paulo', 'Sergipe', 'Tocantins'], dtype=object)"
      ]
     },
     "execution_count": 6,
     "metadata": {},
     "output_type": "execute_result"
    }
   ],
   "source": [
    "estados = df_original['state'].unique()\n",
    "estados"
   ]
  },
  {
   "cell_type": "code",
   "execution_count": null,
   "metadata": {
    "colab": {
     "base_uri": "https://localhost:8080/"
    },
    "id": "wHiYXRC4FnYF",
    "outputId": "4d0f1372-012c-43ef-a0c7-a628594e4948"
   },
   "outputs": [
    {
     "data": {
      "text/plain": [
       "23"
      ]
     },
     "execution_count": 7,
     "metadata": {},
     "output_type": "execute_result"
    }
   ],
   "source": [
    "len(df_original['state'].unique())"
   ]
  },
  {
   "cell_type": "markdown",
   "metadata": {
    "id": "HuNEY3XjFyAq"
   },
   "source": [
    "#### 23 Estados? Como assim?"
   ]
  },
  {
   "cell_type": "markdown",
   "metadata": {
    "id": "mJbE7Nl-F17C"
   },
   "source": [
    "Vamos começar procurando similaridades entre Estados"
   ]
  },
  {
   "cell_type": "code",
   "execution_count": null,
   "metadata": {
    "colab": {
     "base_uri": "https://localhost:8080/"
    },
    "id": "rTHZG9-RFnnr",
    "outputId": "29e771e3-19b8-4122-e57e-b5ff83edad0b"
   },
   "outputs": [
    {
     "data": {
      "text/html": [
       "<div>\n",
       "<style scoped>\n",
       "    .dataframe tbody tr th:only-of-type {\n",
       "        vertical-align: middle;\n",
       "    }\n",
       "\n",
       "    .dataframe tbody tr th {\n",
       "        vertical-align: top;\n",
       "    }\n",
       "\n",
       "    .dataframe thead th {\n",
       "        text-align: right;\n",
       "    }\n",
       "</style>\n",
       "<table border=\"1\" class=\"dataframe\">\n",
       "  <thead>\n",
       "    <tr style=\"text-align: right;\">\n",
       "      <th></th>\n",
       "      <th>year</th>\n",
       "      <th>state</th>\n",
       "      <th>month</th>\n",
       "      <th>number</th>\n",
       "      <th>date</th>\n",
       "    </tr>\n",
       "  </thead>\n",
       "  <tbody>\n",
       "    <tr>\n",
       "      <th>2869</th>\n",
       "      <td>1998</td>\n",
       "      <td>Minas Gerais</td>\n",
       "      <td>Janeiro</td>\n",
       "      <td>0.0</td>\n",
       "      <td>1998-01-01</td>\n",
       "    </tr>\n",
       "    <tr>\n",
       "      <th>2870</th>\n",
       "      <td>1999</td>\n",
       "      <td>Minas Gerais</td>\n",
       "      <td>Janeiro</td>\n",
       "      <td>36.0</td>\n",
       "      <td>1999-01-01</td>\n",
       "    </tr>\n",
       "    <tr>\n",
       "      <th>2871</th>\n",
       "      <td>2000</td>\n",
       "      <td>Minas Gerais</td>\n",
       "      <td>Janeiro</td>\n",
       "      <td>24.0</td>\n",
       "      <td>2000-01-01</td>\n",
       "    </tr>\n",
       "    <tr>\n",
       "      <th>2872</th>\n",
       "      <td>2001</td>\n",
       "      <td>Minas Gerais</td>\n",
       "      <td>Janeiro</td>\n",
       "      <td>18.0</td>\n",
       "      <td>2001-01-01</td>\n",
       "    </tr>\n",
       "    <tr>\n",
       "      <th>2873</th>\n",
       "      <td>2002</td>\n",
       "      <td>Minas Gerais</td>\n",
       "      <td>Janeiro</td>\n",
       "      <td>29.0</td>\n",
       "      <td>2002-01-01</td>\n",
       "    </tr>\n",
       "    <tr>\n",
       "      <th>...</th>\n",
       "      <td>...</td>\n",
       "      <td>...</td>\n",
       "      <td>...</td>\n",
       "      <td>...</td>\n",
       "      <td>...</td>\n",
       "    </tr>\n",
       "    <tr>\n",
       "      <th>3103</th>\n",
       "      <td>2012</td>\n",
       "      <td>Minas Gerais</td>\n",
       "      <td>Dezembro</td>\n",
       "      <td>189.0</td>\n",
       "      <td>2012-01-01</td>\n",
       "    </tr>\n",
       "    <tr>\n",
       "      <th>3104</th>\n",
       "      <td>2013</td>\n",
       "      <td>Minas Gerais</td>\n",
       "      <td>Dezembro</td>\n",
       "      <td>98.0</td>\n",
       "      <td>2013-01-01</td>\n",
       "    </tr>\n",
       "    <tr>\n",
       "      <th>3105</th>\n",
       "      <td>2014</td>\n",
       "      <td>Minas Gerais</td>\n",
       "      <td>Dezembro</td>\n",
       "      <td>155.0</td>\n",
       "      <td>2014-01-01</td>\n",
       "    </tr>\n",
       "    <tr>\n",
       "      <th>3106</th>\n",
       "      <td>2015</td>\n",
       "      <td>Minas Gerais</td>\n",
       "      <td>Dezembro</td>\n",
       "      <td>295.0</td>\n",
       "      <td>2015-01-01</td>\n",
       "    </tr>\n",
       "    <tr>\n",
       "      <th>3107</th>\n",
       "      <td>2016</td>\n",
       "      <td>Minas Gerais</td>\n",
       "      <td>Dezembro</td>\n",
       "      <td>91.0</td>\n",
       "      <td>2016-01-01</td>\n",
       "    </tr>\n",
       "  </tbody>\n",
       "</table>\n",
       "<p>239 rows × 5 columns</p>\n",
       "</div>"
      ],
      "text/plain": [
       "      year         state     month  number        date\n",
       "2869  1998  Minas Gerais   Janeiro     0.0  1998-01-01\n",
       "2870  1999  Minas Gerais   Janeiro    36.0  1999-01-01\n",
       "2871  2000  Minas Gerais   Janeiro    24.0  2000-01-01\n",
       "2872  2001  Minas Gerais   Janeiro    18.0  2001-01-01\n",
       "2873  2002  Minas Gerais   Janeiro    29.0  2002-01-01\n",
       "...    ...           ...       ...     ...         ...\n",
       "3103  2012  Minas Gerais  Dezembro   189.0  2012-01-01\n",
       "3104  2013  Minas Gerais  Dezembro    98.0  2013-01-01\n",
       "3105  2014  Minas Gerais  Dezembro   155.0  2014-01-01\n",
       "3106  2015  Minas Gerais  Dezembro   295.0  2015-01-01\n",
       "3107  2016  Minas Gerais  Dezembro    91.0  2016-01-01\n",
       "\n",
       "[239 rows x 5 columns]"
      ]
     },
     "execution_count": 8,
     "metadata": {},
     "output_type": "execute_result"
    }
   ],
   "source": [
    "df_original[df_original['state'] == \"Minas Gerais\"]"
   ]
  },
  {
   "cell_type": "code",
   "execution_count": null,
   "metadata": {
    "colab": {
     "base_uri": "https://localhost:8080/"
    },
    "id": "4pifVPUAFu95",
    "outputId": "822dcfb2-ef53-4a47-b941-a4fba54491ce"
   },
   "outputs": [
    {
     "data": {
      "text/html": [
       "<div>\n",
       "<style scoped>\n",
       "    .dataframe tbody tr th:only-of-type {\n",
       "        vertical-align: middle;\n",
       "    }\n",
       "\n",
       "    .dataframe tbody tr th {\n",
       "        vertical-align: top;\n",
       "    }\n",
       "\n",
       "    .dataframe thead th {\n",
       "        text-align: right;\n",
       "    }\n",
       "</style>\n",
       "<table border=\"1\" class=\"dataframe\">\n",
       "  <thead>\n",
       "    <tr style=\"text-align: right;\">\n",
       "      <th></th>\n",
       "      <th>year</th>\n",
       "      <th>state</th>\n",
       "      <th>month</th>\n",
       "      <th>number</th>\n",
       "      <th>date</th>\n",
       "    </tr>\n",
       "  </thead>\n",
       "  <tbody>\n",
       "    <tr>\n",
       "      <th>718</th>\n",
       "      <td>1998</td>\n",
       "      <td>Amazonas</td>\n",
       "      <td>Janeiro</td>\n",
       "      <td>0.0</td>\n",
       "      <td>1998-01-01</td>\n",
       "    </tr>\n",
       "    <tr>\n",
       "      <th>719</th>\n",
       "      <td>1999</td>\n",
       "      <td>Amazonas</td>\n",
       "      <td>Janeiro</td>\n",
       "      <td>3.0</td>\n",
       "      <td>1999-01-01</td>\n",
       "    </tr>\n",
       "    <tr>\n",
       "      <th>720</th>\n",
       "      <td>2000</td>\n",
       "      <td>Amazonas</td>\n",
       "      <td>Janeiro</td>\n",
       "      <td>7.0</td>\n",
       "      <td>2000-01-01</td>\n",
       "    </tr>\n",
       "    <tr>\n",
       "      <th>721</th>\n",
       "      <td>2001</td>\n",
       "      <td>Amazonas</td>\n",
       "      <td>Janeiro</td>\n",
       "      <td>3.0</td>\n",
       "      <td>2001-01-01</td>\n",
       "    </tr>\n",
       "    <tr>\n",
       "      <th>722</th>\n",
       "      <td>2002</td>\n",
       "      <td>Amazonas</td>\n",
       "      <td>Janeiro</td>\n",
       "      <td>17.0</td>\n",
       "      <td>2002-01-01</td>\n",
       "    </tr>\n",
       "    <tr>\n",
       "      <th>...</th>\n",
       "      <td>...</td>\n",
       "      <td>...</td>\n",
       "      <td>...</td>\n",
       "      <td>...</td>\n",
       "      <td>...</td>\n",
       "    </tr>\n",
       "    <tr>\n",
       "      <th>952</th>\n",
       "      <td>2012</td>\n",
       "      <td>Amazonas</td>\n",
       "      <td>Dezembro</td>\n",
       "      <td>80.0</td>\n",
       "      <td>2012-01-01</td>\n",
       "    </tr>\n",
       "    <tr>\n",
       "      <th>953</th>\n",
       "      <td>2013</td>\n",
       "      <td>Amazonas</td>\n",
       "      <td>Dezembro</td>\n",
       "      <td>236.0</td>\n",
       "      <td>2013-01-01</td>\n",
       "    </tr>\n",
       "    <tr>\n",
       "      <th>954</th>\n",
       "      <td>2014</td>\n",
       "      <td>Amazonas</td>\n",
       "      <td>Dezembro</td>\n",
       "      <td>293.0</td>\n",
       "      <td>2014-01-01</td>\n",
       "    </tr>\n",
       "    <tr>\n",
       "      <th>955</th>\n",
       "      <td>2015</td>\n",
       "      <td>Amazonas</td>\n",
       "      <td>Dezembro</td>\n",
       "      <td>565.0</td>\n",
       "      <td>2015-01-01</td>\n",
       "    </tr>\n",
       "    <tr>\n",
       "      <th>956</th>\n",
       "      <td>2016</td>\n",
       "      <td>Amazonas</td>\n",
       "      <td>Dezembro</td>\n",
       "      <td>133.0</td>\n",
       "      <td>2016-01-01</td>\n",
       "    </tr>\n",
       "  </tbody>\n",
       "</table>\n",
       "<p>239 rows × 5 columns</p>\n",
       "</div>"
      ],
      "text/plain": [
       "     year     state     month  number        date\n",
       "718  1998  Amazonas   Janeiro     0.0  1998-01-01\n",
       "719  1999  Amazonas   Janeiro     3.0  1999-01-01\n",
       "720  2000  Amazonas   Janeiro     7.0  2000-01-01\n",
       "721  2001  Amazonas   Janeiro     3.0  2001-01-01\n",
       "722  2002  Amazonas   Janeiro    17.0  2002-01-01\n",
       "..    ...       ...       ...     ...         ...\n",
       "952  2012  Amazonas  Dezembro    80.0  2012-01-01\n",
       "953  2013  Amazonas  Dezembro   236.0  2013-01-01\n",
       "954  2014  Amazonas  Dezembro   293.0  2014-01-01\n",
       "955  2015  Amazonas  Dezembro   565.0  2015-01-01\n",
       "956  2016  Amazonas  Dezembro   133.0  2016-01-01\n",
       "\n",
       "[239 rows x 5 columns]"
      ]
     },
     "execution_count": 9,
     "metadata": {},
     "output_type": "execute_result"
    }
   ],
   "source": [
    "df_original[df_original['state'] == \"Amazonas\"]"
   ]
  },
  {
   "cell_type": "markdown",
   "metadata": {
    "id": "fP9EuSn8F8lI"
   },
   "source": [
    "Tanto Minas Gerais como Amazonas têm 239 linhas. Isso faz sentido, já que são 12 meses * 20 anos (=240 observações)"
   ]
  },
  {
   "cell_type": "markdown",
   "metadata": {
    "id": "_L1cmCYZGEqi"
   },
   "source": [
    "#### Mato Grosso [...]??"
   ]
  },
  {
   "cell_type": "code",
   "execution_count": null,
   "metadata": {
    "colab": {
     "base_uri": "https://localhost:8080/"
    },
    "id": "9AxH7zdAFvA-",
    "outputId": "ed82dbc8-3a73-47b4-d0f0-79bd78fb14b0"
   },
   "outputs": [
    {
     "data": {
      "text/html": [
       "<div>\n",
       "<style scoped>\n",
       "    .dataframe tbody tr th:only-of-type {\n",
       "        vertical-align: middle;\n",
       "    }\n",
       "\n",
       "    .dataframe tbody tr th {\n",
       "        vertical-align: top;\n",
       "    }\n",
       "\n",
       "    .dataframe thead th {\n",
       "        text-align: right;\n",
       "    }\n",
       "</style>\n",
       "<table border=\"1\" class=\"dataframe\">\n",
       "  <thead>\n",
       "    <tr style=\"text-align: right;\">\n",
       "      <th></th>\n",
       "      <th>year</th>\n",
       "      <th>state</th>\n",
       "      <th>month</th>\n",
       "      <th>number</th>\n",
       "      <th>date</th>\n",
       "    </tr>\n",
       "  </thead>\n",
       "  <tbody>\n",
       "    <tr>\n",
       "      <th>2391</th>\n",
       "      <td>1998</td>\n",
       "      <td>Mato Grosso</td>\n",
       "      <td>Janeiro</td>\n",
       "      <td>0.0</td>\n",
       "      <td>1998-01-01</td>\n",
       "    </tr>\n",
       "    <tr>\n",
       "      <th>2392</th>\n",
       "      <td>1999</td>\n",
       "      <td>Mato Grosso</td>\n",
       "      <td>Janeiro</td>\n",
       "      <td>39.0</td>\n",
       "      <td>1999-01-01</td>\n",
       "    </tr>\n",
       "    <tr>\n",
       "      <th>2393</th>\n",
       "      <td>2000</td>\n",
       "      <td>Mato Grosso</td>\n",
       "      <td>Janeiro</td>\n",
       "      <td>44.0</td>\n",
       "      <td>2000-01-01</td>\n",
       "    </tr>\n",
       "    <tr>\n",
       "      <th>2394</th>\n",
       "      <td>2001</td>\n",
       "      <td>Mato Grosso</td>\n",
       "      <td>Janeiro</td>\n",
       "      <td>44.0</td>\n",
       "      <td>2001-01-01</td>\n",
       "    </tr>\n",
       "    <tr>\n",
       "      <th>2395</th>\n",
       "      <td>2002</td>\n",
       "      <td>Mato Grosso</td>\n",
       "      <td>Janeiro</td>\n",
       "      <td>172.0</td>\n",
       "      <td>2002-01-01</td>\n",
       "    </tr>\n",
       "    <tr>\n",
       "      <th>...</th>\n",
       "      <td>...</td>\n",
       "      <td>...</td>\n",
       "      <td>...</td>\n",
       "      <td>...</td>\n",
       "      <td>...</td>\n",
       "    </tr>\n",
       "    <tr>\n",
       "      <th>2864</th>\n",
       "      <td>2012</td>\n",
       "      <td>Mato Grosso</td>\n",
       "      <td>Dezembro</td>\n",
       "      <td>194.0</td>\n",
       "      <td>2012-01-01</td>\n",
       "    </tr>\n",
       "    <tr>\n",
       "      <th>2865</th>\n",
       "      <td>2013</td>\n",
       "      <td>Mato Grosso</td>\n",
       "      <td>Dezembro</td>\n",
       "      <td>195.0</td>\n",
       "      <td>2013-01-01</td>\n",
       "    </tr>\n",
       "    <tr>\n",
       "      <th>2866</th>\n",
       "      <td>2014</td>\n",
       "      <td>Mato Grosso</td>\n",
       "      <td>Dezembro</td>\n",
       "      <td>84.0</td>\n",
       "      <td>2014-01-01</td>\n",
       "    </tr>\n",
       "    <tr>\n",
       "      <th>2867</th>\n",
       "      <td>2015</td>\n",
       "      <td>Mato Grosso</td>\n",
       "      <td>Dezembro</td>\n",
       "      <td>394.0</td>\n",
       "      <td>2015-01-01</td>\n",
       "    </tr>\n",
       "    <tr>\n",
       "      <th>2868</th>\n",
       "      <td>2016</td>\n",
       "      <td>Mato Grosso</td>\n",
       "      <td>Dezembro</td>\n",
       "      <td>123.0</td>\n",
       "      <td>2016-01-01</td>\n",
       "    </tr>\n",
       "  </tbody>\n",
       "</table>\n",
       "<p>478 rows × 5 columns</p>\n",
       "</div>"
      ],
      "text/plain": [
       "      year        state     month  number        date\n",
       "2391  1998  Mato Grosso   Janeiro     0.0  1998-01-01\n",
       "2392  1999  Mato Grosso   Janeiro    39.0  1999-01-01\n",
       "2393  2000  Mato Grosso   Janeiro    44.0  2000-01-01\n",
       "2394  2001  Mato Grosso   Janeiro    44.0  2001-01-01\n",
       "2395  2002  Mato Grosso   Janeiro   172.0  2002-01-01\n",
       "...    ...          ...       ...     ...         ...\n",
       "2864  2012  Mato Grosso  Dezembro   194.0  2012-01-01\n",
       "2865  2013  Mato Grosso  Dezembro   195.0  2013-01-01\n",
       "2866  2014  Mato Grosso  Dezembro    84.0  2014-01-01\n",
       "2867  2015  Mato Grosso  Dezembro   394.0  2015-01-01\n",
       "2868  2016  Mato Grosso  Dezembro   123.0  2016-01-01\n",
       "\n",
       "[478 rows x 5 columns]"
      ]
     },
     "execution_count": 10,
     "metadata": {},
     "output_type": "execute_result"
    }
   ],
   "source": [
    "df_original[df_original['state'] == \"Mato Grosso\"]"
   ]
  },
  {
   "cell_type": "markdown",
   "metadata": {
    "id": "GoV0ZWFyGJEV"
   },
   "source": [
    "478 observações? Justamente o dobro do esperado"
   ]
  },
  {
   "cell_type": "markdown",
   "metadata": {
    "id": "_Ql_JyCqGLxt"
   },
   "source": [
    "#### Rio? Rio Grande do Norte? Rio Grande do Sul? Rio de Janeiro? "
   ]
  },
  {
   "cell_type": "code",
   "execution_count": null,
   "metadata": {
    "colab": {
     "base_uri": "https://localhost:8080/",
     "height": 419
    },
    "id": "Qi7KmfaFFvER",
    "outputId": "4379d1a6-ae74-4d95-f8f4-4b167635bee4"
   },
   "outputs": [
    {
     "data": {
      "text/html": [
       "<div>\n",
       "<style scoped>\n",
       "    .dataframe tbody tr th:only-of-type {\n",
       "        vertical-align: middle;\n",
       "    }\n",
       "\n",
       "    .dataframe tbody tr th {\n",
       "        vertical-align: top;\n",
       "    }\n",
       "\n",
       "    .dataframe thead th {\n",
       "        text-align: right;\n",
       "    }\n",
       "</style>\n",
       "<table border=\"1\" class=\"dataframe\">\n",
       "  <thead>\n",
       "    <tr style=\"text-align: right;\">\n",
       "      <th></th>\n",
       "      <th>year</th>\n",
       "      <th>state</th>\n",
       "      <th>month</th>\n",
       "      <th>number</th>\n",
       "      <th>date</th>\n",
       "    </tr>\n",
       "  </thead>\n",
       "  <tbody>\n",
       "    <tr>\n",
       "      <th>4303</th>\n",
       "      <td>1998</td>\n",
       "      <td>Rio</td>\n",
       "      <td>Janeiro</td>\n",
       "      <td>0.0</td>\n",
       "      <td>1998-01-01</td>\n",
       "    </tr>\n",
       "    <tr>\n",
       "      <th>4304</th>\n",
       "      <td>1999</td>\n",
       "      <td>Rio</td>\n",
       "      <td>Janeiro</td>\n",
       "      <td>0.0</td>\n",
       "      <td>1999-01-01</td>\n",
       "    </tr>\n",
       "    <tr>\n",
       "      <th>4305</th>\n",
       "      <td>2000</td>\n",
       "      <td>Rio</td>\n",
       "      <td>Janeiro</td>\n",
       "      <td>0.0</td>\n",
       "      <td>2000-01-01</td>\n",
       "    </tr>\n",
       "    <tr>\n",
       "      <th>4306</th>\n",
       "      <td>2001</td>\n",
       "      <td>Rio</td>\n",
       "      <td>Janeiro</td>\n",
       "      <td>0.0</td>\n",
       "      <td>2001-01-01</td>\n",
       "    </tr>\n",
       "    <tr>\n",
       "      <th>4307</th>\n",
       "      <td>2002</td>\n",
       "      <td>Rio</td>\n",
       "      <td>Janeiro</td>\n",
       "      <td>0.0</td>\n",
       "      <td>2002-01-01</td>\n",
       "    </tr>\n",
       "    <tr>\n",
       "      <th>...</th>\n",
       "      <td>...</td>\n",
       "      <td>...</td>\n",
       "      <td>...</td>\n",
       "      <td>...</td>\n",
       "      <td>...</td>\n",
       "    </tr>\n",
       "    <tr>\n",
       "      <th>5015</th>\n",
       "      <td>2012</td>\n",
       "      <td>Rio</td>\n",
       "      <td>Dezembro</td>\n",
       "      <td>38.0</td>\n",
       "      <td>2012-01-01</td>\n",
       "    </tr>\n",
       "    <tr>\n",
       "      <th>5016</th>\n",
       "      <td>2013</td>\n",
       "      <td>Rio</td>\n",
       "      <td>Dezembro</td>\n",
       "      <td>62.0</td>\n",
       "      <td>2013-01-01</td>\n",
       "    </tr>\n",
       "    <tr>\n",
       "      <th>5017</th>\n",
       "      <td>2014</td>\n",
       "      <td>Rio</td>\n",
       "      <td>Dezembro</td>\n",
       "      <td>31.0</td>\n",
       "      <td>2014-01-01</td>\n",
       "    </tr>\n",
       "    <tr>\n",
       "      <th>5018</th>\n",
       "      <td>2015</td>\n",
       "      <td>Rio</td>\n",
       "      <td>Dezembro</td>\n",
       "      <td>42.0</td>\n",
       "      <td>2015-01-01</td>\n",
       "    </tr>\n",
       "    <tr>\n",
       "      <th>5019</th>\n",
       "      <td>2016</td>\n",
       "      <td>Rio</td>\n",
       "      <td>Dezembro</td>\n",
       "      <td>79.0</td>\n",
       "      <td>2016-01-01</td>\n",
       "    </tr>\n",
       "  </tbody>\n",
       "</table>\n",
       "<p>717 rows × 5 columns</p>\n",
       "</div>"
      ],
      "text/plain": [
       "      year state     month  number        date\n",
       "4303  1998   Rio   Janeiro     0.0  1998-01-01\n",
       "4304  1999   Rio   Janeiro     0.0  1999-01-01\n",
       "4305  2000   Rio   Janeiro     0.0  2000-01-01\n",
       "4306  2001   Rio   Janeiro     0.0  2001-01-01\n",
       "4307  2002   Rio   Janeiro     0.0  2002-01-01\n",
       "...    ...   ...       ...     ...         ...\n",
       "5015  2012   Rio  Dezembro    38.0  2012-01-01\n",
       "5016  2013   Rio  Dezembro    62.0  2013-01-01\n",
       "5017  2014   Rio  Dezembro    31.0  2014-01-01\n",
       "5018  2015   Rio  Dezembro    42.0  2015-01-01\n",
       "5019  2016   Rio  Dezembro    79.0  2016-01-01\n",
       "\n",
       "[717 rows x 5 columns]"
      ]
     },
     "execution_count": 11,
     "metadata": {},
     "output_type": "execute_result"
    }
   ],
   "source": [
    "df_original[df_original['state'] == \"Rio\"]"
   ]
  },
  {
   "cell_type": "markdown",
   "metadata": {
    "id": "6OZTykPMGQSl"
   },
   "source": [
    "717? Agora temos o triplo"
   ]
  },
  {
   "cell_type": "markdown",
   "metadata": {
    "id": "Ul3MorMZGR9k"
   },
   "source": [
    "<b>Importante</b>: Ao que tudo indica, o autor dessa base de dados agrupou os estados que começam com a palavra \"Rio\" (i.e., Rio Grande do Norte, Rio Grande do Sul e Rio de Janeiro), assim como os estados que começam com Mato Grosso e Mato Grosso do Sul"
   ]
  },
  {
   "cell_type": "markdown",
   "metadata": {
    "id": "DcEuDeYDGUpB"
   },
   "source": [
    "#### (Re)encontrando a base de dados"
   ]
  },
  {
   "cell_type": "code",
   "execution_count": null,
   "metadata": {
    "id": "5AGGsxqJTa0R"
   },
   "outputs": [],
   "source": [
    "df = pd.read_csv('https://raw.githubusercontent.com/userhv/Forest-Fires-in-Brazil/main/database/incendiosflorestais_focoscalor_estados.csv',sep='\\t')\n",
    "area_estado = pd.read_csv('https://raw.githubusercontent.com/userhv/Forest-Fires-in-Brazil/main/database/Area_Plantada_Estado.csv', sep=';')"
   ]
  },
  {
   "cell_type": "code",
   "execution_count": null,
   "metadata": {
    "colab": {
     "base_uri": "https://localhost:8080/",
     "height": 204
    },
    "id": "brAP3aMMSscc",
    "outputId": "1d87a365-4eb1-44ff-925a-3f0e849544fd"
   },
   "outputs": [
    {
     "data": {
      "text/html": [
       "<div>\n",
       "<style scoped>\n",
       "    .dataframe tbody tr th:only-of-type {\n",
       "        vertical-align: middle;\n",
       "    }\n",
       "\n",
       "    .dataframe tbody tr th {\n",
       "        vertical-align: top;\n",
       "    }\n",
       "\n",
       "    .dataframe thead th {\n",
       "        text-align: right;\n",
       "    }\n",
       "</style>\n",
       "<table border=\"1\" class=\"dataframe\">\n",
       "  <thead>\n",
       "    <tr style=\"text-align: right;\">\n",
       "      <th></th>\n",
       "      <th>Ano</th>\n",
       "      <th>Estado</th>\n",
       "      <th>Mês</th>\n",
       "      <th>Número</th>\n",
       "      <th>Período</th>\n",
       "    </tr>\n",
       "  </thead>\n",
       "  <tbody>\n",
       "    <tr>\n",
       "      <th>0</th>\n",
       "      <td>1998</td>\n",
       "      <td>Acre</td>\n",
       "      <td>Janeiro</td>\n",
       "      <td>0</td>\n",
       "      <td>01/01/1998</td>\n",
       "    </tr>\n",
       "    <tr>\n",
       "      <th>1</th>\n",
       "      <td>1999</td>\n",
       "      <td>Acre</td>\n",
       "      <td>Janeiro</td>\n",
       "      <td>0</td>\n",
       "      <td>01/01/1999</td>\n",
       "    </tr>\n",
       "    <tr>\n",
       "      <th>2</th>\n",
       "      <td>2000</td>\n",
       "      <td>Acre</td>\n",
       "      <td>Janeiro</td>\n",
       "      <td>0</td>\n",
       "      <td>01/01/2000</td>\n",
       "    </tr>\n",
       "    <tr>\n",
       "      <th>3</th>\n",
       "      <td>2001</td>\n",
       "      <td>Acre</td>\n",
       "      <td>Janeiro</td>\n",
       "      <td>0</td>\n",
       "      <td>01/01/2001</td>\n",
       "    </tr>\n",
       "    <tr>\n",
       "      <th>4</th>\n",
       "      <td>2002</td>\n",
       "      <td>Acre</td>\n",
       "      <td>Janeiro</td>\n",
       "      <td>0</td>\n",
       "      <td>01/01/2002</td>\n",
       "    </tr>\n",
       "  </tbody>\n",
       "</table>\n",
       "</div>"
      ],
      "text/plain": [
       "    Ano Estado      Mês  Número     Período\n",
       "0  1998   Acre  Janeiro       0  01/01/1998\n",
       "1  1999   Acre  Janeiro       0  01/01/1999\n",
       "2  2000   Acre  Janeiro       0  01/01/2000\n",
       "3  2001   Acre  Janeiro       0  01/01/2001\n",
       "4  2002   Acre  Janeiro       0  01/01/2002"
      ]
     },
     "execution_count": 13,
     "metadata": {},
     "output_type": "execute_result"
    }
   ],
   "source": [
    "df.head()"
   ]
  },
  {
   "cell_type": "markdown",
   "metadata": {
    "id": "ZxXHSqF_WtAQ"
   },
   "source": [
    "\n",
    "## *Pergunta 1 - Em qual estação do ano ocorrem mais incêndios florestais?*\n"
   ]
  },
  {
   "cell_type": "markdown",
   "metadata": {
    "id": "dpKmg8bMk91T"
   },
   "source": [
    "### Análise de Dados - Pergunta 1"
   ]
  },
  {
   "cell_type": "code",
   "execution_count": null,
   "metadata": {
    "id": "TxZ-NfJqkf-H"
   },
   "outputs": [],
   "source": [
    "df_verao = df.query('Mês == \"Janeiro\" or Mês == \"Fevereiro\" or Mês == \"Março\"').groupby('Ano').sum()['Número']\n",
    "df_outono = df.query('Mês == \"Abril\" or Mês == \"Maio\" or Mês == \"Junho\"').groupby('Ano').sum()['Número']\n",
    "df_inverno = df.query('Mês == \"Julho\" or Mês == \"Agosto\" or Mês == \"Setembro\"').groupby('Ano').sum()['Número']\n",
    "df_primavera = df.query('Mês == \"Outubro\" or Mês == \"Novembro\" or Mês == \"Dezembro\"').groupby('Ano').sum()['Número']"
   ]
  },
  {
   "cell_type": "code",
   "execution_count": null,
   "metadata": {
    "id": "PIPWfFYxLyFL"
   },
   "outputs": [],
   "source": []
  },
  {
   "cell_type": "code",
   "execution_count": null,
   "metadata": {
    "colab": {
     "base_uri": "https://localhost:8080/",
     "height": 700
    },
    "id": "WKilL1EN9Jsc",
    "outputId": "820bf6b1-84eb-4467-ecc5-338f63f6561d"
   },
   "outputs": [
    {
     "data": {
      "text/html": [
       "<div>\n",
       "<style scoped>\n",
       "    .dataframe tbody tr th:only-of-type {\n",
       "        vertical-align: middle;\n",
       "    }\n",
       "\n",
       "    .dataframe tbody tr th {\n",
       "        vertical-align: top;\n",
       "    }\n",
       "\n",
       "    .dataframe thead th {\n",
       "        text-align: right;\n",
       "    }\n",
       "</style>\n",
       "<table border=\"1\" class=\"dataframe\">\n",
       "  <thead>\n",
       "    <tr style=\"text-align: right;\">\n",
       "      <th></th>\n",
       "      <th>verao</th>\n",
       "      <th>outono</th>\n",
       "      <th>inverno</th>\n",
       "      <th>primavera</th>\n",
       "    </tr>\n",
       "    <tr>\n",
       "      <th>Ano</th>\n",
       "      <th></th>\n",
       "      <th></th>\n",
       "      <th></th>\n",
       "      <th></th>\n",
       "    </tr>\n",
       "  </thead>\n",
       "  <tbody>\n",
       "    <tr>\n",
       "      <th>1998</th>\n",
       "      <td>0</td>\n",
       "      <td>3551</td>\n",
       "      <td>85583</td>\n",
       "      <td>34747</td>\n",
       "    </tr>\n",
       "    <tr>\n",
       "      <th>1999</th>\n",
       "      <td>3032</td>\n",
       "      <td>6161</td>\n",
       "      <td>85155</td>\n",
       "      <td>40248</td>\n",
       "    </tr>\n",
       "    <tr>\n",
       "      <th>2000</th>\n",
       "      <td>2187</td>\n",
       "      <td>8909</td>\n",
       "      <td>50232</td>\n",
       "      <td>40200</td>\n",
       "    </tr>\n",
       "    <tr>\n",
       "      <th>2001</th>\n",
       "      <td>2874</td>\n",
       "      <td>11604</td>\n",
       "      <td>78211</td>\n",
       "      <td>52878</td>\n",
       "    </tr>\n",
       "    <tr>\n",
       "      <th>2002</th>\n",
       "      <td>4903</td>\n",
       "      <td>16339</td>\n",
       "      <td>126705</td>\n",
       "      <td>87845</td>\n",
       "    </tr>\n",
       "    <tr>\n",
       "      <th>2003</th>\n",
       "      <td>10238</td>\n",
       "      <td>10930</td>\n",
       "      <td>131865</td>\n",
       "      <td>82209</td>\n",
       "    </tr>\n",
       "    <tr>\n",
       "      <th>2004</th>\n",
       "      <td>6000</td>\n",
       "      <td>19132</td>\n",
       "      <td>156634</td>\n",
       "      <td>88618</td>\n",
       "    </tr>\n",
       "    <tr>\n",
       "      <th>2005</th>\n",
       "      <td>8849</td>\n",
       "      <td>10032</td>\n",
       "      <td>143901</td>\n",
       "      <td>77982</td>\n",
       "    </tr>\n",
       "    <tr>\n",
       "      <th>2006</th>\n",
       "      <td>6695</td>\n",
       "      <td>3568</td>\n",
       "      <td>89992</td>\n",
       "      <td>36635</td>\n",
       "    </tr>\n",
       "    <tr>\n",
       "      <th>2007</th>\n",
       "      <td>6942</td>\n",
       "      <td>5657</td>\n",
       "      <td>169171</td>\n",
       "      <td>49482</td>\n",
       "    </tr>\n",
       "    <tr>\n",
       "      <th>2008</th>\n",
       "      <td>4639</td>\n",
       "      <td>3093</td>\n",
       "      <td>58480</td>\n",
       "      <td>57037</td>\n",
       "    </tr>\n",
       "    <tr>\n",
       "      <th>2009</th>\n",
       "      <td>5380</td>\n",
       "      <td>6633</td>\n",
       "      <td>53588</td>\n",
       "      <td>57610</td>\n",
       "    </tr>\n",
       "    <tr>\n",
       "      <th>2010</th>\n",
       "      <td>7654</td>\n",
       "      <td>9339</td>\n",
       "      <td>177356</td>\n",
       "      <td>54925</td>\n",
       "    </tr>\n",
       "    <tr>\n",
       "      <th>2011</th>\n",
       "      <td>3326</td>\n",
       "      <td>7715</td>\n",
       "      <td>81302</td>\n",
       "      <td>40737</td>\n",
       "    </tr>\n",
       "    <tr>\n",
       "      <th>2012</th>\n",
       "      <td>5985</td>\n",
       "      <td>11323</td>\n",
       "      <td>121861</td>\n",
       "      <td>54622</td>\n",
       "    </tr>\n",
       "    <tr>\n",
       "      <th>2013</th>\n",
       "      <td>5601</td>\n",
       "      <td>7435</td>\n",
       "      <td>56667</td>\n",
       "      <td>45481</td>\n",
       "    </tr>\n",
       "    <tr>\n",
       "      <th>2014</th>\n",
       "      <td>6404</td>\n",
       "      <td>12030</td>\n",
       "      <td>96983</td>\n",
       "      <td>68243</td>\n",
       "    </tr>\n",
       "    <tr>\n",
       "      <th>2015</th>\n",
       "      <td>9146</td>\n",
       "      <td>10767</td>\n",
       "      <td>120288</td>\n",
       "      <td>96104</td>\n",
       "    </tr>\n",
       "    <tr>\n",
       "      <th>2016</th>\n",
       "      <td>13922</td>\n",
       "      <td>13879</td>\n",
       "      <td>101518</td>\n",
       "      <td>58976</td>\n",
       "    </tr>\n",
       "    <tr>\n",
       "      <th>2017</th>\n",
       "      <td>5825</td>\n",
       "      <td>11571</td>\n",
       "      <td>183384</td>\n",
       "      <td>60305</td>\n",
       "    </tr>\n",
       "  </tbody>\n",
       "</table>\n",
       "</div>"
      ],
      "text/plain": [
       "      verao  outono  inverno  primavera\n",
       "Ano                                    \n",
       "1998      0    3551    85583      34747\n",
       "1999   3032    6161    85155      40248\n",
       "2000   2187    8909    50232      40200\n",
       "2001   2874   11604    78211      52878\n",
       "2002   4903   16339   126705      87845\n",
       "2003  10238   10930   131865      82209\n",
       "2004   6000   19132   156634      88618\n",
       "2005   8849   10032   143901      77982\n",
       "2006   6695    3568    89992      36635\n",
       "2007   6942    5657   169171      49482\n",
       "2008   4639    3093    58480      57037\n",
       "2009   5380    6633    53588      57610\n",
       "2010   7654    9339   177356      54925\n",
       "2011   3326    7715    81302      40737\n",
       "2012   5985   11323   121861      54622\n",
       "2013   5601    7435    56667      45481\n",
       "2014   6404   12030    96983      68243\n",
       "2015   9146   10767   120288      96104\n",
       "2016  13922   13879   101518      58976\n",
       "2017   5825   11571   183384      60305"
      ]
     },
     "execution_count": 15,
     "metadata": {},
     "output_type": "execute_result"
    }
   ],
   "source": [
    "data_estacao = pd.DataFrame({'verao':df_verao, 'outono': df_outono, 'inverno': df_inverno, 'primavera': df_primavera})\n",
    "data_estacao"
   ]
  },
  {
   "cell_type": "code",
   "execution_count": null,
   "metadata": {
    "colab": {
     "base_uri": "https://localhost:8080/",
     "height": 627
    },
    "id": "cA-gZJdmW4Mb",
    "outputId": "92c49b6f-61ff-460f-c523-a8d1ccdfd9ff"
   },
   "outputs": [
    {
     "data": {
      "image/png": "[encoded data removed]",
      "text/plain": [
       "<Figure size 1296x720 with 1 Axes>"
      ]
     },
     "metadata": {
      "needs_background": "light"
     },
     "output_type": "display_data"
    }
   ],
   "source": [
    "data_estacao.plot(figsize=(18, 10),fontsize=16, lw=2, marker=\"o\")\n",
    "plt.xlabel('Ano')\n",
    "plt.ylabel('Qtd de Queimadas')\n",
    "plt.title('Queimadas por estação do ano')\n",
    "plt.xticks(data_estacao.index)\n",
    "plt.legend()\n",
    "despine()"
   ]
  },
  {
   "cell_type": "code",
   "execution_count": null,
   "metadata": {
    "colab": {
     "base_uri": "https://localhost:8080/"
    },
    "id": "15KPArXXFzhR",
    "outputId": "de5d7827-a1ec-4652-df50-58d9a2f24add"
   },
   "outputs": [
    {
     "name": "stdout",
     "output_type": "stream",
     "text": [
      "Números de queimadas por estação de 1998 até 2017\n",
      "Numero de queimadas no inverno:   2168876.00\n",
      "Numero de queimadas na primavera: 1184884.00\n",
      "Numero de queimadas no outono:    189668.00\n",
      "Numero de queimadas no verão:     119602.00\n"
     ]
    }
   ],
   "source": [
    "print(\"Números de queimadas por estação de 1998 até 2017\")\n",
    "print(f\"Numero de queimadas no inverno:   {df_inverno.sum():.2f}\")\n",
    "print(f\"Numero de queimadas na primavera: {df_primavera.sum():.2f}\")\n",
    "print(f\"Numero de queimadas no outono:    {df_outono.sum():.2f}\")\n",
    "print(f\"Numero de queimadas no verão:     {df_verao.sum():.2f}\")"
   ]
  },
  {
   "cell_type": "code",
   "execution_count": null,
   "metadata": {
    "colab": {
     "base_uri": "https://localhost:8080/"
    },
    "id": "bhRBFuHba6--",
    "outputId": "84ec87b6-6ae4-4db2-d3b2-9b6cdd87d7c5"
   },
   "outputs": [
    {
     "name": "stdout",
     "output_type": "stream",
     "text": [
      "Média de queimadas por estação de 1998 até 2017\n",
      "Media de queimadas no inverno:    108443.80\n",
      "Media de queimadas na primavera:  59244.20\n",
      "Media de queimadas no outono:     9483.40\n",
      "Media de queimadas na verão:      5980.10\n"
     ]
    }
   ],
   "source": [
    "print(\"Média de queimadas por estação de 1998 até 2017\")\n",
    "print(f\"Media de queimadas no inverno:    {df_inverno.mean():.2f}\")\n",
    "print(f\"Media de queimadas na primavera:  {df_primavera.mean():.2f}\")\n",
    "print(f\"Media de queimadas no outono:     {df_outono.mean():.2f}\")\n",
    "print(f\"Media de queimadas na verão:      {df_verao.mean():.2f}\")"
   ]
  },
  {
   "cell_type": "markdown",
   "metadata": {
    "id": "RW5kY7AwdsPc"
   },
   "source": [
    "Evidenciando a média de queimadas no inverno e primavera"
   ]
  },
  {
   "cell_type": "code",
   "execution_count": null,
   "metadata": {
    "colab": {
     "base_uri": "https://localhost:8080/",
     "height": 638
    },
    "id": "txsw0GzQawhB",
    "outputId": "208dac16-166f-4b15-c435-7fb9cd16792c"
   },
   "outputs": [
    {
     "data": {
      "text/plain": [
       "<matplotlib.legend.Legend at 0x7fc0c7fcc550>"
      ]
     },
     "execution_count": 19,
     "metadata": {},
     "output_type": "execute_result"
    },
    {
     "data": {
      "image/png": "[encoded data removed]",
      "text/plain": [
       "<Figure size 1296x720 with 1 Axes>"
      ]
     },
     "metadata": {
      "needs_background": "light"
     },
     "output_type": "display_data"
    }
   ],
   "source": [
    "plt.figure(figsize=(18, 10))\n",
    "plt.hist([df_inverno,df_primavera],edgecolor='k', bins=None,lw=1,label=['inverno','primavera'])\n",
    "plt.vlines(df_inverno.mean(), 0, 4, label='media inverno', color='red',linestyles='--',lw=3)\n",
    "plt.vlines(df_primavera.mean(), 0, 4, label='media primavera', color='black',linestyles='-',lw=3)\n",
    "plt.xlabel('qnt de queimadas')\n",
    "plt.title('Média de queimadas no inverno e primavera de 1998 a 2017')\n",
    "plt.legend()"
   ]
  },
  {
   "cell_type": "markdown",
   "metadata": {
    "id": "e7KKxnpVN4U4"
   },
   "source": [
    "### Relatório - Pergunta 1"
   ]
  },
  {
   "cell_type": "markdown",
   "metadata": {
    "id": "KYbog-7hlErr"
   },
   "source": [
    "Para responder essa pergunta, utilizamos apenas estatísticas básicas, por se tratar de uma base pequena.\n",
    "\n",
    "Inicialmente, tratamos a nossa base de dados de modo que ficasse separado as estações do ano desde 1998 até 2017, com isso conseguimos visualizar no gráfico que as estações da primavera e do inverno se destacam dentro as demais por ter um número elevado de queimadas. Evidenciamos isso quando trouxemos a tona a soma de queimadas dessas estações tendo no inverno e primavera, respectivamente, com 2168876.00 e 1184884.00 queimadas nesses 20 anos. Note que a diferença dessas duas estações para as outras duas restantes, verão e outono, é quase duas vezes maior.\n",
    "\n",
    "Com isso conseguimos responder que dentre os 20 anos analisados, a estação do ano que possui o maior número de queimdas é o inverno."
   ]
  },
  {
   "cell_type": "markdown",
   "metadata": {
    "id": "jBptXLWMXis5"
   },
   "source": [
    "### Regressão - Pergunta 1"
   ]
  },
  {
   "cell_type": "code",
   "execution_count": null,
   "metadata": {
    "colab": {
     "base_uri": "https://localhost:8080/"
    },
    "id": "XhzHOS9IL1oQ",
    "outputId": "399beaf9-b393-4c57-ea05-1d958995fb23"
   },
   "outputs": [
    {
     "name": "stdout",
     "output_type": "stream",
     "text": [
      "Coeficiente angular = 0.04\n",
      "Coeficiente linear = -71.41\n",
      "R2 com normalizacao =  0.044287284988960285\n"
     ]
    }
   ],
   "source": [
    "z_df = (data_estacao-data_estacao.mean())/data_estacao.std(ddof=1)\n",
    "X = z_df.index\n",
    "X = X.values\n",
    "y = z_df['inverno'].values\n",
    "X = X.reshape(-1, 1)\n",
    "modelo = LinearRegression()\n",
    "modelo.fit(X,y)\n",
    "coef_angular = modelo.coef_[0]\n",
    "coef_linear = modelo.intercept_\n",
    "print(\"Coeficiente angular = {:0.2f}\".format(coef_angular))\n",
    "print(\"Coeficiente linear = {:0.2f}\".format(coef_linear))\n",
    "print(\"R2 com normalizacao = \", modelo.score(X, y))"
   ]
  },
  {
   "cell_type": "code",
   "execution_count": null,
   "metadata": {
    "id": "9_xVUCllMEzQ"
   },
   "outputs": [],
   "source": [
    "reta = coef_angular*X+coef_linear"
   ]
  },
  {
   "cell_type": "code",
   "execution_count": null,
   "metadata": {
    "colab": {
     "base_uri": "https://localhost:8080/"
    },
    "id": "oq1tQ15uQnWJ",
    "outputId": "fdcef63b-6a04-42d9-fdf1-a7133465361a"
   },
   "outputs": [
    {
     "data": {
      "image/png": "[encoded data removed]",
      "text/plain": [
       "<Figure size 1296x720 with 1 Axes>"
      ]
     },
     "metadata": {
      "needs_background": "light"
     },
     "output_type": "display_data"
    }
   ],
   "source": [
    "plt.figure(figsize=(18, 10))\n",
    "plt.scatter(X,y,label='queimadas');\n",
    "plt.plot(X,reta,label='ajuste linear',color='red');\n",
    "plt.xlabel('ano');\n",
    "plt.ylabel('qntd de queimadas');\n",
    "plt.title('Queimadas no inverno')\n",
    "plt.xticks(data_estacao.index)\n",
    "plt.legend();"
   ]
  },
  {
   "cell_type": "markdown",
   "metadata": {
    "id": "gk0VcYSEUqEk"
   },
   "source": [
    "### Queimadas por região do Brasil - Pergunta 1"
   ]
  },
  {
   "cell_type": "code",
   "execution_count": null,
   "metadata": {
    "id": "voI65vrHR2Zo"
   },
   "outputs": [],
   "source": [
    "df_norte = df.query('Estado == \"Acre\" or Estado == \"Amapá\" or Estado == \"Amazonas\" or Estado == \"Pará\" or Estado == \"Roraima\" or Estado == \"Rondônia\" or Estado == \"Tocantins\"').groupby('Ano').sum()['Número']\n",
    "df_nordeste = df.query('Estado == \"Alagoas\" or Estado == \"Bahia\" or Estado == \"Ceará\" or Estado == \"Maranhão\" or Estado == \"Paraíba\" or Estado == \"Pernambuco\" or Estado == \"Piauí\" or Estado == \"Rio Grande do Norte\" or Estado == \"Sergipe\"').groupby('Ano').sum()['Número']\n",
    "df_centro_oeste = df.query('Estado == \"Goiás\" or Estado == \"Mato Grosso\" or Estado == \"Mato Grosso do Sul\"').groupby('Ano').sum()['Número']\n",
    "df_sudeste = df.query('Estado == \"São Paulo\" or Estado == \"Rio de Janeiro\" or Estado == \"Minas Gerais\" or Estado == \"Espírito Santo\"').groupby('Ano').sum()['Número']\n",
    "df_sul = df.query('Estado == \"Paraná\" or Estado == \"Rio Grande do Sul\" or Estado == \"Santa Catarina\"').groupby('Ano').sum()['Número']"
   ]
  },
  {
   "cell_type": "code",
   "execution_count": null,
   "metadata": {
    "colab": {
     "base_uri": "https://localhost:8080/"
    },
    "id": "S6NyyQYBUEun",
    "outputId": "9638deb9-1dce-4874-e3cf-d7cc3bc0405a"
   },
   "outputs": [
    {
     "data": {
      "text/html": [
       "<div>\n",
       "<style scoped>\n",
       "    .dataframe tbody tr th:only-of-type {\n",
       "        vertical-align: middle;\n",
       "    }\n",
       "\n",
       "    .dataframe tbody tr th {\n",
       "        vertical-align: top;\n",
       "    }\n",
       "\n",
       "    .dataframe thead th {\n",
       "        text-align: right;\n",
       "    }\n",
       "</style>\n",
       "<table border=\"1\" class=\"dataframe\">\n",
       "  <thead>\n",
       "    <tr style=\"text-align: right;\">\n",
       "      <th></th>\n",
       "      <th>norte</th>\n",
       "      <th>nordeste</th>\n",
       "      <th>centro oeste</th>\n",
       "      <th>sudeste</th>\n",
       "      <th>sul</th>\n",
       "    </tr>\n",
       "    <tr>\n",
       "      <th>Ano</th>\n",
       "      <th></th>\n",
       "      <th></th>\n",
       "      <th></th>\n",
       "      <th></th>\n",
       "      <th></th>\n",
       "    </tr>\n",
       "  </thead>\n",
       "  <tbody>\n",
       "    <tr>\n",
       "      <th>1998</th>\n",
       "      <td>40710</td>\n",
       "      <td>30215</td>\n",
       "      <td>43619</td>\n",
       "      <td>7602</td>\n",
       "      <td>1414</td>\n",
       "    </tr>\n",
       "    <tr>\n",
       "      <th>1999</th>\n",
       "      <td>35997</td>\n",
       "      <td>18825</td>\n",
       "      <td>62327</td>\n",
       "      <td>12046</td>\n",
       "      <td>5115</td>\n",
       "    </tr>\n",
       "    <tr>\n",
       "      <th>2000</th>\n",
       "      <td>32149</td>\n",
       "      <td>24202</td>\n",
       "      <td>32946</td>\n",
       "      <td>8773</td>\n",
       "      <td>3235</td>\n",
       "    </tr>\n",
       "    <tr>\n",
       "      <th>2001</th>\n",
       "      <td>48601</td>\n",
       "      <td>45033</td>\n",
       "      <td>43054</td>\n",
       "      <td>6967</td>\n",
       "      <td>1718</td>\n",
       "    </tr>\n",
       "    <tr>\n",
       "      <th>2002</th>\n",
       "      <td>76639</td>\n",
       "      <td>59108</td>\n",
       "      <td>76032</td>\n",
       "      <td>16013</td>\n",
       "      <td>7554</td>\n",
       "    </tr>\n",
       "    <tr>\n",
       "      <th>2003</th>\n",
       "      <td>77567</td>\n",
       "      <td>63618</td>\n",
       "      <td>58668</td>\n",
       "      <td>20106</td>\n",
       "      <td>14479</td>\n",
       "    </tr>\n",
       "    <tr>\n",
       "      <th>2004</th>\n",
       "      <td>95573</td>\n",
       "      <td>59088</td>\n",
       "      <td>91439</td>\n",
       "      <td>14134</td>\n",
       "      <td>9697</td>\n",
       "    </tr>\n",
       "    <tr>\n",
       "      <th>2005</th>\n",
       "      <td>95963</td>\n",
       "      <td>59833</td>\n",
       "      <td>65810</td>\n",
       "      <td>13720</td>\n",
       "      <td>5225</td>\n",
       "    </tr>\n",
       "    <tr>\n",
       "      <th>2006</th>\n",
       "      <td>58940</td>\n",
       "      <td>30336</td>\n",
       "      <td>33401</td>\n",
       "      <td>7851</td>\n",
       "      <td>6071</td>\n",
       "    </tr>\n",
       "    <tr>\n",
       "      <th>2007</th>\n",
       "      <td>75913</td>\n",
       "      <td>67511</td>\n",
       "      <td>66368</td>\n",
       "      <td>16534</td>\n",
       "      <td>4270</td>\n",
       "    </tr>\n",
       "    <tr>\n",
       "      <th>2008</th>\n",
       "      <td>42901</td>\n",
       "      <td>40986</td>\n",
       "      <td>26826</td>\n",
       "      <td>9888</td>\n",
       "      <td>2282</td>\n",
       "    </tr>\n",
       "    <tr>\n",
       "      <th>2009</th>\n",
       "      <td>53475</td>\n",
       "      <td>36800</td>\n",
       "      <td>21577</td>\n",
       "      <td>5952</td>\n",
       "      <td>5099</td>\n",
       "    </tr>\n",
       "    <tr>\n",
       "      <th>2010</th>\n",
       "      <td>93681</td>\n",
       "      <td>68973</td>\n",
       "      <td>63755</td>\n",
       "      <td>18271</td>\n",
       "      <td>3864</td>\n",
       "    </tr>\n",
       "    <tr>\n",
       "      <th>2011</th>\n",
       "      <td>40897</td>\n",
       "      <td>45536</td>\n",
       "      <td>25257</td>\n",
       "      <td>16389</td>\n",
       "      <td>4402</td>\n",
       "    </tr>\n",
       "    <tr>\n",
       "      <th>2012</th>\n",
       "      <td>66537</td>\n",
       "      <td>70208</td>\n",
       "      <td>39717</td>\n",
       "      <td>12795</td>\n",
       "      <td>4009</td>\n",
       "    </tr>\n",
       "    <tr>\n",
       "      <th>2013</th>\n",
       "      <td>44289</td>\n",
       "      <td>34571</td>\n",
       "      <td>24312</td>\n",
       "      <td>7768</td>\n",
       "      <td>3893</td>\n",
       "    </tr>\n",
       "    <tr>\n",
       "      <th>2014</th>\n",
       "      <td>74939</td>\n",
       "      <td>47099</td>\n",
       "      <td>36917</td>\n",
       "      <td>18526</td>\n",
       "      <td>5581</td>\n",
       "    </tr>\n",
       "    <tr>\n",
       "      <th>2015</th>\n",
       "      <td>102412</td>\n",
       "      <td>69680</td>\n",
       "      <td>45177</td>\n",
       "      <td>13273</td>\n",
       "      <td>4560</td>\n",
       "    </tr>\n",
       "    <tr>\n",
       "      <th>2016</th>\n",
       "      <td>81156</td>\n",
       "      <td>43921</td>\n",
       "      <td>41814</td>\n",
       "      <td>10716</td>\n",
       "      <td>9792</td>\n",
       "    </tr>\n",
       "    <tr>\n",
       "      <th>2017</th>\n",
       "      <td>120578</td>\n",
       "      <td>52547</td>\n",
       "      <td>59648</td>\n",
       "      <td>18276</td>\n",
       "      <td>9392</td>\n",
       "    </tr>\n",
       "  </tbody>\n",
       "</table>\n",
       "</div>"
      ],
      "text/plain": [
       "       norte  nordeste  centro oeste  sudeste    sul\n",
       "Ano                                                 \n",
       "1998   40710     30215         43619     7602   1414\n",
       "1999   35997     18825         62327    12046   5115\n",
       "2000   32149     24202         32946     8773   3235\n",
       "2001   48601     45033         43054     6967   1718\n",
       "2002   76639     59108         76032    16013   7554\n",
       "2003   77567     63618         58668    20106  14479\n",
       "2004   95573     59088         91439    14134   9697\n",
       "2005   95963     59833         65810    13720   5225\n",
       "2006   58940     30336         33401     7851   6071\n",
       "2007   75913     67511         66368    16534   4270\n",
       "2008   42901     40986         26826     9888   2282\n",
       "2009   53475     36800         21577     5952   5099\n",
       "2010   93681     68973         63755    18271   3864\n",
       "2011   40897     45536         25257    16389   4402\n",
       "2012   66537     70208         39717    12795   4009\n",
       "2013   44289     34571         24312     7768   3893\n",
       "2014   74939     47099         36917    18526   5581\n",
       "2015  102412     69680         45177    13273   4560\n",
       "2016   81156     43921         41814    10716   9792\n",
       "2017  120578     52547         59648    18276   9392"
      ]
     },
     "execution_count": 24,
     "metadata": {},
     "output_type": "execute_result"
    }
   ],
   "source": [
    "data_regiao = pd.DataFrame({'norte':df_norte, 'nordeste': df_nordeste, 'centro oeste': df_centro_oeste, 'sudeste': df_sudeste, 'sul': df_sul})\n",
    "data_regiao"
   ]
  },
  {
   "cell_type": "code",
   "execution_count": null,
   "metadata": {
    "colab": {
     "base_uri": "https://localhost:8080/"
    },
    "id": "JaGs-y6RtqwO",
    "outputId": "c54d0ae2-b535-4814-c016-e8272b784484"
   },
   "outputs": [
    {
     "data": {
      "image/png": "[encoded data removed]",
      "text/plain": [
       "<Figure size 1296x720 with 1 Axes>"
      ]
     },
     "metadata": {
      "needs_background": "light"
     },
     "output_type": "display_data"
    }
   ],
   "source": [
    "data_regiao.plot(figsize=(18, 10),fontsize=16, lw=2, marker=\"o\")\n",
    "plt.xlabel('Ano')\n",
    "plt.ylabel('Qtd de Queimadas')\n",
    "plt.title('Queimadas por região')\n",
    "plt.xticks(data_regiao.index)\n",
    "plt.legend()\n",
    "despine()"
   ]
  },
  {
   "cell_type": "code",
   "execution_count": null,
   "metadata": {
    "colab": {
     "base_uri": "https://localhost:8080/"
    },
    "id": "EHPKuJl99kaq",
    "outputId": "68fdd80a-e745-4cbe-a81a-7e8a421af27a"
   },
   "outputs": [
    {
     "name": "stdout",
     "output_type": "stream",
     "text": [
      "Números de queimadas por região de 1998 até 2017\n",
      "Numero de queimadas no nordeste:      968090.00\n",
      "Numero de queimadas no norte:         1358917.00\n",
      "Numero de queimadas no centro-oeste:  958664.00\n",
      "Numero de queimadas no sudeste:       255600.00\n",
      "Numero de queimadas no sul:           111652.00\n"
     ]
    }
   ],
   "source": [
    "print(\"Números de queimadas por região de 1998 até 2017\")\n",
    "print(f\"Numero de queimadas no nordeste:      {df_nordeste.sum():.2f}\")\n",
    "print(f\"Numero de queimadas no norte:         {df_norte.sum():.2f}\")\n",
    "print(f\"Numero de queimadas no centro-oeste:  {df_centro_oeste.sum():.2f}\")\n",
    "print(f\"Numero de queimadas no sudeste:       {df_sudeste.sum():.2f}\")\n",
    "print(f\"Numero de queimadas no sul:           {df_sul.sum():.2f}\")"
   ]
  },
  {
   "cell_type": "markdown",
   "metadata": {
    "id": "vUgngZjn9MaW"
   },
   "source": [
    "### Estatisticas para as queimadas por região e por estação do ano - Pergunta 1"
   ]
  },
  {
   "cell_type": "markdown",
   "metadata": {
    "id": "ikl4QyB8m5vL"
   },
   "source": [
    "Medias de queimadas por estação do ano"
   ]
  },
  {
   "cell_type": "code",
   "execution_count": null,
   "metadata": {
    "colab": {
     "base_uri": "https://localhost:8080/",
     "height": 592
    },
    "id": "cUMar6EJJvUQ",
    "outputId": "f53c2dc5-dbf2-4a95-a4f4-0450f7e705b0"
   },
   "outputs": [
    {
     "data": {
      "image/png": "[encoded data removed]",
      "text/plain": [
       "<Figure size 1296x720 with 1 Axes>"
      ]
     },
     "metadata": {
      "needs_background": "light"
     },
     "output_type": "display_data"
    }
   ],
   "source": [
    "##Estatísticas básicas\n",
    "verao_mean = df_verao.mean()\n",
    "outono_mean = df_outono.mean()\n",
    "inverno_mean = df_inverno.mean()\n",
    "primavera_mean = df_primavera.mean()\n",
    "\n",
    "plt.figure(figsize=(18, 10))\n",
    "plt.axhline(y=verao_mean, color = 'gray', linestyle='dashed', linewidth = 2, label=' verao')\n",
    "plt.axhline(y=outono_mean, color = 'cyan', linestyle='dashed', linewidth = 2, label=' outono')\n",
    "plt.axhline(y=inverno_mean, color = 'red', linestyle='dashed', linewidth = 2, label=' inverno')\n",
    "plt.axhline(y=primavera_mean, color = 'yellow', linestyle='dashed', linewidth = 2, label=' primavera')\n",
    "plt.ylabel('medias')\n",
    "plt.legend()\n",
    "despine()"
   ]
  },
  {
   "cell_type": "markdown",
   "metadata": {
    "id": "Eem8M7WQmxBx"
   },
   "source": [
    "Media de queimadas no verão dos anos de 1998 a 2017"
   ]
  },
  {
   "cell_type": "code",
   "execution_count": null,
   "metadata": {
    "colab": {
     "base_uri": "https://localhost:8080/",
     "height": 621
    },
    "id": "LfXRx-EqcTQX",
    "outputId": "da762bb2-a688-44bd-d5f6-9ab2ee038063"
   },
   "outputs": [
    {
     "data": {
      "image/png": "[encoded data removed]",
      "text/plain": [
       "<Figure size 1296x720 with 1 Axes>"
      ]
     },
     "metadata": {
      "needs_background": "light"
     },
     "output_type": "display_data"
    }
   ],
   "source": [
    "plt.figure(figsize=(18, 10))\n",
    "plt.hist(df_verao,edgecolor='k', bins=None,lw=1)\n",
    "plt.vlines(df_verao.mean(), 0, 4, label='media', color='red',linestyles='--',lw=3)\n",
    "plt.xlabel('qnt de queimadas')\n",
    "plt.title('Média de queimadas no verão de 1998 a 2017')\n",
    "plt.legend()\n",
    "despine()"
   ]
  },
  {
   "cell_type": "markdown",
   "metadata": {
    "id": "M5kzgSrenEaM"
   },
   "source": [
    "Media de queimadas no outono de 1998 a 2017\n",
    "\n"
   ]
  },
  {
   "cell_type": "code",
   "execution_count": null,
   "metadata": {
    "colab": {
     "base_uri": "https://localhost:8080/",
     "height": 621
    },
    "id": "gMudmkQUnDyF",
    "outputId": "fa30b75a-5943-4761-e9cd-ceff1e7a15e8"
   },
   "outputs": [
    {
     "data": {
      "image/png": "[encoded data removed]",
      "text/plain": [
       "<Figure size 1296x720 with 1 Axes>"
      ]
     },
     "metadata": {
      "needs_background": "light"
     },
     "output_type": "display_data"
    }
   ],
   "source": [
    "plt.figure(figsize=(18, 10))\n",
    "plt.hist(df_outono,edgecolor='k', bins=None,lw=1)\n",
    "plt.vlines(df_outono.mean(), 0, 4, label='media', color='red',linestyles='--',lw=3)\n",
    "plt.xlabel('qntd de queimadas')\n",
    "plt.title('Média de queimadas no outono de 1998 a 2017')\n",
    "plt.legend()\n",
    "despine()"
   ]
  },
  {
   "cell_type": "markdown",
   "metadata": {
    "id": "zVAnzhAynU6Q"
   },
   "source": [
    "Media de queimadas no inverno de 1998 a 2017"
   ]
  },
  {
   "cell_type": "code",
   "execution_count": null,
   "metadata": {
    "colab": {
     "base_uri": "https://localhost:8080/",
     "height": 638
    },
    "id": "h4GJ7mALnYiv",
    "outputId": "cf802bc7-59e9-4df6-a564-d1f62c1f084e"
   },
   "outputs": [
    {
     "data": {
      "text/plain": [
       "<matplotlib.legend.Legend at 0x7fc0c620c910>"
      ]
     },
     "execution_count": 30,
     "metadata": {},
     "output_type": "execute_result"
    },
    {
     "data": {
      "image/png": "[encoded data removed]",
      "text/plain": [
       "<Figure size 1296x720 with 1 Axes>"
      ]
     },
     "metadata": {
      "needs_background": "light"
     },
     "output_type": "display_data"
    }
   ],
   "source": [
    "plt.figure(figsize=(18, 10))\n",
    "plt.hist(df_inverno,edgecolor='k', bins=None,lw=1)\n",
    "plt.vlines(df_inverno.mean(), 0, 4, label='media', color='red',linestyles='--',lw=3)\n",
    "plt.xlabel('qnt de queimadas')\n",
    "plt.title('Média de queimadas no inverno de 1998 a 2017')\n",
    "plt.legend()"
   ]
  },
  {
   "cell_type": "markdown",
   "metadata": {
    "id": "6bP_J2eDnybQ"
   },
   "source": [
    "Media de queimadas na primavera de 1998 a 2017"
   ]
  },
  {
   "cell_type": "code",
   "execution_count": null,
   "metadata": {
    "colab": {
     "base_uri": "https://localhost:8080/",
     "height": 638
    },
    "id": "azN9EjBFn2ak",
    "outputId": "ee8d9b58-8555-43ee-caa2-3c90309cc7f1"
   },
   "outputs": [
    {
     "data": {
      "text/plain": [
       "<matplotlib.legend.Legend at 0x7fc0c7f65cd0>"
      ]
     },
     "execution_count": 31,
     "metadata": {},
     "output_type": "execute_result"
    },
    {
     "data": {
      "image/png": "[encoded data removed]",
      "text/plain": [
       "<Figure size 1296x720 with 1 Axes>"
      ]
     },
     "metadata": {
      "needs_background": "light"
     },
     "output_type": "display_data"
    }
   ],
   "source": [
    "plt.figure(figsize=(18, 10))\n",
    "plt.hist(df_primavera,edgecolor='k', bins=None,lw=1)\n",
    "plt.vlines(df_primavera.mean(), 0, 4, label='media', color='red',linestyles='--',lw=3)\n",
    "plt.xlabel('qnt de queimadas')\n",
    "plt.title('Média de queimadas na primavera de 1998 a 2017')\n",
    "plt.legend()"
   ]
  },
  {
   "cell_type": "markdown",
   "metadata": {
    "id": "dyCT3JKZjC9W"
   },
   "source": [
    " Media de queimadas por região\n"
   ]
  },
  {
   "cell_type": "code",
   "execution_count": null,
   "metadata": {
    "colab": {
     "base_uri": "https://localhost:8080/",
     "height": 638
    },
    "id": "dLteheJojHzz",
    "outputId": "fda38af7-e8ae-48ea-8b69-e4ee4cd7244f"
   },
   "outputs": [
    {
     "data": {
      "text/plain": [
       "<matplotlib.legend.Legend at 0x7fc0c60bdbd0>"
      ]
     },
     "execution_count": 32,
     "metadata": {},
     "output_type": "execute_result"
    },
    {
     "data": {
      "image/png": "[encoded data removed]",
      "text/plain": [
       "<Figure size 1296x720 with 1 Axes>"
      ]
     },
     "metadata": {
      "needs_background": "light"
     },
     "output_type": "display_data"
    }
   ],
   "source": [
    "plt.figure(figsize=(18, 10))\n",
    "plt.hist(df_norte,edgecolor='k', bins=None,lw=1)\n",
    "plt.vlines(df_norte.mean(), 0, 4, label='media', color='red',linestyles='--',lw=3)\n",
    "plt.xlabel('qnt de queimadas')\n",
    "plt.title('Média de queimadas no norte de 1998 a 2017')\n",
    "plt.legend()"
   ]
  },
  {
   "cell_type": "code",
   "execution_count": null,
   "metadata": {
    "colab": {
     "base_uri": "https://localhost:8080/",
     "height": 638
    },
    "id": "mHLwC_HRjiFT",
    "outputId": "9292f4cb-1345-41e9-e7f3-b570db09560c"
   },
   "outputs": [
    {
     "data": {
      "text/plain": [
       "<matplotlib.legend.Legend at 0x7fc0c60836d0>"
      ]
     },
     "execution_count": 33,
     "metadata": {},
     "output_type": "execute_result"
    },
    {
     "data": {
      "image/png": "[encoded data removed]",
      "text/plain": [
       "<Figure size 1296x720 with 1 Axes>"
      ]
     },
     "metadata": {
      "needs_background": "light"
     },
     "output_type": "display_data"
    }
   ],
   "source": [
    "plt.figure(figsize=(18, 10))\n",
    "plt.hist(df_nordeste,edgecolor='k', bins=None,lw=1)\n",
    "plt.vlines(df_nordeste.mean(), 0, 4, label='media', color='red',linestyles='--',lw=3)\n",
    "plt.xlabel('qnt de queimadas')\n",
    "plt.title('Média de queimadas no nordeste de 1998 a 2017')\n",
    "plt.legend()"
   ]
  },
  {
   "cell_type": "code",
   "execution_count": null,
   "metadata": {
    "colab": {
     "base_uri": "https://localhost:8080/",
     "height": 638
    },
    "id": "JX-ptC-Mjmjf",
    "outputId": "8eea1917-0bec-4ead-faa7-799e1235281a"
   },
   "outputs": [
    {
     "data": {
      "text/plain": [
       "<matplotlib.legend.Legend at 0x7fc0bd733810>"
      ]
     },
     "execution_count": 34,
     "metadata": {},
     "output_type": "execute_result"
    },
    {
     "data": {
      "image/png": "[encoded data removed]",
      "text/plain": [
       "<Figure size 1296x720 with 1 Axes>"
      ]
     },
     "metadata": {
      "needs_background": "light"
     },
     "output_type": "display_data"
    }
   ],
   "source": [
    "plt.figure(figsize=(18, 10))\n",
    "plt.hist(df_centro_oeste,edgecolor='k', bins=None,lw=1)\n",
    "plt.vlines(df_centro_oeste.mean(), 0, 4, label='media', color='red',linestyles='--',lw=3)\n",
    "plt.xlabel('qnt de queimadas')\n",
    "plt.title('Média de queimadas no centro oeste de 1998 a 2017')\n",
    "plt.legend()"
   ]
  },
  {
   "cell_type": "code",
   "execution_count": null,
   "metadata": {
    "colab": {
     "base_uri": "https://localhost:8080/",
     "height": 638
    },
    "id": "_Hf7eutBkHtk",
    "outputId": "0bc02bd0-83b4-43e5-8105-5e1896ebf564"
   },
   "outputs": [
    {
     "data": {
      "text/plain": [
       "<matplotlib.legend.Legend at 0x7fc0bd656850>"
      ]
     },
     "execution_count": 35,
     "metadata": {},
     "output_type": "execute_result"
    },
    {
     "data": {
      "image/png": "[encoded data removed]",
      "text/plain": [
       "<Figure size 1296x720 with 1 Axes>"
      ]
     },
     "metadata": {
      "needs_background": "light"
     },
     "output_type": "display_data"
    }
   ],
   "source": [
    "plt.figure(figsize=(18, 10))\n",
    "plt.hist(df_sudeste,edgecolor='k', bins=None,lw=1)\n",
    "plt.vlines(df_sudeste.mean(), 0, 4, label='media', color='red',linestyles='--',lw=3)\n",
    "plt.xlabel('qnt de queimadas')\n",
    "plt.title('Média de queimadas no sudeste de 1998 a 2017')\n",
    "plt.legend()"
   ]
  },
  {
   "cell_type": "code",
   "execution_count": null,
   "metadata": {
    "colab": {
     "base_uri": "https://localhost:8080/",
     "height": 638
    },
    "id": "F6YWpC08kNRp",
    "outputId": "aa3c3814-6dae-4d5d-ab5d-2a6b6f6a4de7"
   },
   "outputs": [
    {
     "data": {
      "text/plain": [
       "<matplotlib.legend.Legend at 0x7fc0bd646990>"
      ]
     },
     "execution_count": 36,
     "metadata": {},
     "output_type": "execute_result"
    },
    {
     "data": {
      "image/png": "[encoded data removed]",
      "text/plain": [
       "<Figure size 1296x720 with 1 Axes>"
      ]
     },
     "metadata": {
      "needs_background": "light"
     },
     "output_type": "display_data"
    }
   ],
   "source": [
    "plt.figure(figsize=(18, 10))\n",
    "plt.hist(df_sul,edgecolor='k', bins=None,lw=1)\n",
    "plt.vlines(df_sul.mean(), 0, 4, label='media', color='red',linestyles='--',lw=3)\n",
    "plt.xlabel('qnt de queimadas')\n",
    "plt.title('Média de queimadas no sul de 1998 a 2017')\n",
    "plt.legend()"
   ]
  },
  {
   "cell_type": "markdown",
   "metadata": {
    "id": "jwhktP2OWuMP"
   },
   "source": [
    "## *Pergunta 2 - Há um aumento no número de ocorrências com o passar do tempo, e é possível realizar suas previsões por períodos governamentais?*"
   ]
  },
  {
   "cell_type": "markdown",
   "metadata": {
    "id": "_VfsF0JV6uDy"
   },
   "source": [
    "### Relatório - Pergunta 2"
   ]
  },
  {
   "cell_type": "markdown",
   "metadata": {
    "id": "pZFai6jszNsQ"
   },
   "source": [
    "Relatório: \n",
    "Essa pergunta foi abordada, primeiramente, com uma análise exploratória dos dados. Após verificação da base de dados, decidiu-se por escolher um modelo para representação tal que este seja o número total de queimadas por ano, presentes em um novo ‘data frame’(df). Os dados obtidos foram organizados em uma tabela, gráfico de barras, gráfico de linhas e um histograma. Depois, houve uma análise das estatísticas básicas presentes no df, como média, mediana, valores máximo e mínimo, e também a representação dessas em um gráfico de linhas. Além das estatísticas básicas, também examinou-se as medidas de variância e realizou as mesmas interpretações dos indicadores anteriores.\n",
    "Logo após essa exploração inicial dos dados, fez-se necessário uma divisão melhor e por períodos governamentais. Sabendo disso, foram criados 7 novos df’s, a partir do primeiro gerado e com o auxílio da estrutura ‘query’ para seleção desejada, em que cada um continha as informações correspondentes ao período de governo de um específico presidente. No entanto, como a base de dados não possuía dados completos para todos os anos de governo de todos os presidentes, alguns df’s acabaram por ficar com um número menor de informações (isso foi verificado e apresentado). Agora, com essa nova separação, começou-se à fazer testes de hipóteses. Com isso, primeiramente foi gerado um intervalo de confiança, do número total de queimadas, para aqueles períodos de governo que dispunham de uma quantidade razoável de dados, sendo representados por dados limites inferior e superior. Contudo, como esse primeiro método para obtenção de intervalos de confiança requer um número minimamente razoável de dados, não foi possível realizá-lo para todos os períodos. Para estes outros, foi feito um ‘bootstrap’ para simular amostras e ter um número de dados suficientes para uma boa representação do intervalo desejado. Desse modo, foi possível obter os limites inferiores e superiores para o intervalo de confiança. Além disso, representou-se todas as novas amostras simuladas em um histograma.\n",
    "Depois, houve o início da realização das regressões lineares, com o auxílio da biblioteca “sklearn”. Esse modelo foi escolhido pois é o mais adequado aos dados presentes na base de dados. Primeiro, fez-se uma regressão linear para o número total de queimadas de todos os anos da base, ou seja, um modelo geral de regressão. Além disso, verificou-se o coeficiente de determinação e o erro absoluto médio para averiguar a qualidade do modelo. Ainda nesse caso, foi feito também um gráfico para representar a regressão. Logo após, repetiu-se todo esse processo para todos os governos que apresentavam dados em mais de 1 ano. Por último, fez-se a técnica KNN, de K-vizinhos mais próximos, para o número de queimadas e anos ocorridos. Para isso, primeiro, houve uma Z-normalização dos dados, necessária para os processos a seguir. Com isso, foi possível realizar treinos, validações e testes, de forma a obter todas as saídas e métricas(precisão, revocação, F1 e a matriz de confusão) desejadas para avaliar o modelo e os períodos em questão.\n"
   ]
  },
  {
   "cell_type": "markdown",
   "metadata": {
    "id": "MMWJZMloxY9H"
   },
   "source": [
    "### Análise Exploratória dos Dados - Pergunta 2"
   ]
  },
  {
   "cell_type": "code",
   "execution_count": null,
   "metadata": {
    "colab": {
     "base_uri": "https://localhost:8080/"
    },
    "id": "tBL2asvNrY1o",
    "outputId": "6bcea53e-8939-475b-e587-241e937918f2"
   },
   "outputs": [
    {
     "data": {
      "text/html": [
       "<div>\n",
       "<style scoped>\n",
       "    .dataframe tbody tr th:only-of-type {\n",
       "        vertical-align: middle;\n",
       "    }\n",
       "\n",
       "    .dataframe tbody tr th {\n",
       "        vertical-align: top;\n",
       "    }\n",
       "\n",
       "    .dataframe thead th {\n",
       "        text-align: right;\n",
       "    }\n",
       "</style>\n",
       "<table border=\"1\" class=\"dataframe\">\n",
       "  <thead>\n",
       "    <tr style=\"text-align: right;\">\n",
       "      <th></th>\n",
       "      <th>Ano</th>\n",
       "      <th>Quantidade de Queimadas</th>\n",
       "    </tr>\n",
       "  </thead>\n",
       "  <tbody>\n",
       "    <tr>\n",
       "      <th>0</th>\n",
       "      <td>1998</td>\n",
       "      <td>123881</td>\n",
       "    </tr>\n",
       "    <tr>\n",
       "      <th>1</th>\n",
       "      <td>1999</td>\n",
       "      <td>134596</td>\n",
       "    </tr>\n",
       "    <tr>\n",
       "      <th>2</th>\n",
       "      <td>2000</td>\n",
       "      <td>101528</td>\n",
       "    </tr>\n",
       "    <tr>\n",
       "      <th>3</th>\n",
       "      <td>2001</td>\n",
       "      <td>145567</td>\n",
       "    </tr>\n",
       "    <tr>\n",
       "      <th>4</th>\n",
       "      <td>2002</td>\n",
       "      <td>235792</td>\n",
       "    </tr>\n",
       "    <tr>\n",
       "      <th>5</th>\n",
       "      <td>2003</td>\n",
       "      <td>235242</td>\n",
       "    </tr>\n",
       "    <tr>\n",
       "      <th>6</th>\n",
       "      <td>2004</td>\n",
       "      <td>270384</td>\n",
       "    </tr>\n",
       "    <tr>\n",
       "      <th>7</th>\n",
       "      <td>2005</td>\n",
       "      <td>240764</td>\n",
       "    </tr>\n",
       "    <tr>\n",
       "      <th>8</th>\n",
       "      <td>2006</td>\n",
       "      <td>136890</td>\n",
       "    </tr>\n",
       "    <tr>\n",
       "      <th>9</th>\n",
       "      <td>2007</td>\n",
       "      <td>231252</td>\n",
       "    </tr>\n",
       "    <tr>\n",
       "      <th>10</th>\n",
       "      <td>2008</td>\n",
       "      <td>123249</td>\n",
       "    </tr>\n",
       "    <tr>\n",
       "      <th>11</th>\n",
       "      <td>2009</td>\n",
       "      <td>123211</td>\n",
       "    </tr>\n",
       "    <tr>\n",
       "      <th>12</th>\n",
       "      <td>2010</td>\n",
       "      <td>249274</td>\n",
       "    </tr>\n",
       "    <tr>\n",
       "      <th>13</th>\n",
       "      <td>2011</td>\n",
       "      <td>133080</td>\n",
       "    </tr>\n",
       "    <tr>\n",
       "      <th>14</th>\n",
       "      <td>2012</td>\n",
       "      <td>193791</td>\n",
       "    </tr>\n",
       "    <tr>\n",
       "      <th>15</th>\n",
       "      <td>2013</td>\n",
       "      <td>115184</td>\n",
       "    </tr>\n",
       "    <tr>\n",
       "      <th>16</th>\n",
       "      <td>2014</td>\n",
       "      <td>183660</td>\n",
       "    </tr>\n",
       "    <tr>\n",
       "      <th>17</th>\n",
       "      <td>2015</td>\n",
       "      <td>236305</td>\n",
       "    </tr>\n",
       "    <tr>\n",
       "      <th>18</th>\n",
       "      <td>2016</td>\n",
       "      <td>188295</td>\n",
       "    </tr>\n",
       "    <tr>\n",
       "      <th>19</th>\n",
       "      <td>2017</td>\n",
       "      <td>261085</td>\n",
       "    </tr>\n",
       "  </tbody>\n",
       "</table>\n",
       "</div>"
      ],
      "text/plain": [
       "     Ano  Quantidade de Queimadas\n",
       "0   1998                   123881\n",
       "1   1999                   134596\n",
       "2   2000                   101528\n",
       "3   2001                   145567\n",
       "4   2002                   235792\n",
       "5   2003                   235242\n",
       "6   2004                   270384\n",
       "7   2005                   240764\n",
       "8   2006                   136890\n",
       "9   2007                   231252\n",
       "10  2008                   123249\n",
       "11  2009                   123211\n",
       "12  2010                   249274\n",
       "13  2011                   133080\n",
       "14  2012                   193791\n",
       "15  2013                   115184\n",
       "16  2014                   183660\n",
       "17  2015                   236305\n",
       "18  2016                   188295\n",
       "19  2017                   261085"
      ]
     },
     "execution_count": 37,
     "metadata": {},
     "output_type": "execute_result"
    }
   ],
   "source": [
    "##Número total de queimadas por ano\n",
    "df_number_by_year = df.groupby('Ano').sum()['Número'].reset_index().rename(columns={'Ano': 'Ano', 'Número': 'Quantidade de Queimadas'})\n",
    "df_number_by_year"
   ]
  },
  {
   "cell_type": "code",
   "execution_count": null,
   "metadata": {
    "colab": {
     "base_uri": "https://localhost:8080/"
    },
    "id": "7-1Wq03SW44H",
    "outputId": "f842c26c-4886-4afc-b412-20feb2b3b05c"
   },
   "outputs": [
    {
     "data": {
      "text/plain": [
       "Text(0.5, 1.0, 'Gráfico de Barras')"
      ]
     },
     "execution_count": 38,
     "metadata": {},
     "output_type": "execute_result"
    },
    {
     "data": {
      "image/png": "[encoded data removed]",
      "text/plain": [
       "<Figure size 1296x720 with 1 Axes>"
      ]
     },
     "metadata": {
      "needs_background": "light"
     },
     "output_type": "display_data"
    }
   ],
   "source": [
    "##Visualização do problema utilizando gráfico de barras\n",
    "df_number_by_year.plot.bar(x='Ano', y='Quantidade de Queimadas',figsize=(18, 10), edgecolor='k');\n",
    "plt.xlabel('Ano')\n",
    "plt.ylabel('Quantidade de queimadas')\n",
    "plt.title(\"Gráfico de Barras\")"
   ]
  },
  {
   "cell_type": "code",
   "execution_count": null,
   "metadata": {
    "colab": {
     "base_uri": "https://localhost:8080/"
    },
    "id": "9NSG_hF4vSoq",
    "outputId": "afe222d4-1847-4634-a2a1-47b4372e237e"
   },
   "outputs": [
    {
     "data": {
      "text/plain": [
       "Text(0.5, 1.0, 'Gráfico de Linhas')"
      ]
     },
     "execution_count": 39,
     "metadata": {},
     "output_type": "execute_result"
    },
    {
     "data": {
      "image/png": "[encoded data removed]",
      "text/plain": [
       "<Figure size 1296x720 with 1 Axes>"
      ]
     },
     "metadata": {
      "needs_background": "light"
     },
     "output_type": "display_data"
    }
   ],
   "source": [
    "##Visualização do problema utilizando gráfico em linhas\n",
    "df_number_by_year.plot(x='Ano', y='Quantidade de Queimadas', figsize=(18, 10), fontsize=16, lw=3,marker=\"o\")\n",
    "plt.xlabel('Ano')\n",
    "plt.xticks([1998,1999,2000,2001,2002,2003,2004,2005,2006,2007,2008,2009,2010,2011,2012,2013,2014,2015,2016,2017])\n",
    "plt.ylabel('Quantidade de Queimadas');\n",
    "plt.title(\"Gráfico de Linhas\")"
   ]
  },
  {
   "cell_type": "code",
   "execution_count": null,
   "metadata": {
    "colab": {
     "base_uri": "https://localhost:8080/"
    },
    "id": "JLQH597DXklw",
    "outputId": "7be19082-4dbd-4ee0-ab24-4f3c7fc1e29b"
   },
   "outputs": [
    {
     "data": {
      "text/plain": [
       "Text(0.5, 1.0, 'Histograma')"
      ]
     },
     "execution_count": 40,
     "metadata": {},
     "output_type": "execute_result"
    },
    {
     "data": {
      "image/png": "[encoded data removed]",
      "text/plain": [
       "<Figure size 1296x720 with 1 Axes>"
      ]
     },
     "metadata": {
      "needs_background": "light"
     },
     "output_type": "display_data"
    }
   ],
   "source": [
    "##Visualização do problema utilizando um histograma\n",
    "df_number_by_year.plot.hist(x='Ano', y='Quantidade de Queimadas',figsize=(18, 10), edgecolor='k');\n",
    "plt.xlabel('Quantidade de Queimadas')\n",
    "plt.ylabel('Frequência em anos')\n",
    "plt.title(\"Histograma\")"
   ]
  },
  {
   "cell_type": "code",
   "execution_count": null,
   "metadata": {
    "colab": {
     "base_uri": "https://localhost:8080/"
    },
    "id": "ihwAUAvFpthK",
    "outputId": "fac97697-2f5d-40e4-db5c-0d1bbd470878"
   },
   "outputs": [
    {
     "name": "stdout",
     "output_type": "stream",
     "text": [
      "Média de queimadas por ano: 183151.5\n",
      "Mediana de queimadas dos anos: 185977.5\n",
      "Valor mínimo de queimadas em um ano: 101528\n",
      "Valor máximo de queimadas em um ano: 270384\n"
     ]
    }
   ],
   "source": [
    "##Estatísticas básicas\n",
    "years_mean = df_number_by_year['Quantidade de Queimadas'].mean()\n",
    "print(\"Média de queimadas por ano:\",years_mean)\n",
    "years_median = df_number_by_year['Quantidade de Queimadas'].median()\n",
    "print(\"Mediana de queimadas dos anos:\", years_median)\n",
    "min_ = df_number_by_year['Quantidade de Queimadas'].min()\n",
    "print(\"Valor mínimo de queimadas em um ano:\",min_)\n",
    "max_ = df_number_by_year['Quantidade de Queimadas'].max()\n",
    "print(\"Valor máximo de queimadas em um ano:\", max_)"
   ]
  },
  {
   "cell_type": "code",
   "execution_count": null,
   "metadata": {
    "colab": {
     "base_uri": "https://localhost:8080/"
    },
    "id": "OUyWe5MzH_1w",
    "outputId": "dd3d0c68-b691-47bd-c17d-b8ef6c52c7d7"
   },
   "outputs": [
    {
     "data": {
      "text/plain": [
       "<matplotlib.legend.Legend at 0x7fc0bd78c110>"
      ]
     },
     "execution_count": 42,
     "metadata": {},
     "output_type": "execute_result"
    },
    {
     "data": {
      "image/png": "[encoded data removed]",
      "text/plain": [
       "<Figure size 432x288 with 1 Axes>"
      ]
     },
     "metadata": {
      "needs_background": "light"
     },
     "output_type": "display_data"
    }
   ],
   "source": [
    "##Visualização das estatísticas básicas acima em linhas no gráfico\n",
    "plt.axvline(x=years_mean, color = 'gray', linestyle='dashed', linewidth = 2, label='mean')\n",
    "plt.axvline(x=years_median, color = 'cyan', linestyle='dashed', linewidth = 2, label='median')\n",
    "plt.axvline(x=min_, color = 'red', linestyle='dashed', linewidth = 2, label='min')\n",
    "plt.axvline(x=max_, color = 'yellow', linestyle='dashed', linewidth = 2, label='max')\n",
    "plt.legend()"
   ]
  },
  {
   "cell_type": "code",
   "execution_count": null,
   "metadata": {
    "colab": {
     "base_uri": "https://localhost:8080/"
    },
    "id": "3iVBfUqiIGG2",
    "outputId": "5325f798-0846-42cb-8d59-53f971d5b99c"
   },
   "outputs": [
    {
     "name": "stdout",
     "output_type": "stream",
     "text": [
      "Intervalo: 168856\n",
      "Variância: 3291130926.263158\n",
      "Desvio Padrão: 57368.37914969498\n"
     ]
    }
   ],
   "source": [
    "##Medidas de variância\n",
    "rng = df_number_by_year['Quantidade de Queimadas'].max() - df_number_by_year['Quantidade de Queimadas'].min()\n",
    "print(\"Intervalo:\",rng)\n",
    "var = df_number_by_year['Quantidade de Queimadas'].var(ddof=1)\n",
    "print(\"Variância:\",var)\n",
    "std = df_number_by_year['Quantidade de Queimadas'].std(ddof=1)\n",
    "print(\"Desvio Padrão:\",std)"
   ]
  },
  {
   "cell_type": "code",
   "execution_count": null,
   "metadata": {
    "colab": {
     "base_uri": "https://localhost:8080/"
    },
    "id": "-6eD-PEdISWq",
    "outputId": "49d32f33-6dee-4d76-e651-9933b8210cac"
   },
   "outputs": [
    {
     "data": {
      "text/plain": [
       "<matplotlib.legend.Legend at 0x7fc0c61fc950>"
      ]
     },
     "execution_count": 44,
     "metadata": {},
     "output_type": "execute_result"
    },
    {
     "data": {
      "image/png": "[encoded data removed]",
      "text/plain": [
       "<Figure size 432x288 with 1 Axes>"
      ]
     },
     "metadata": {
      "needs_background": "light"
     },
     "output_type": "display_data"
    }
   ],
   "source": [
    "##Visualização das medidas de variância em linhas no gráfico\n",
    "plt.axvline(x=rng, color = 'gray', linestyle='dashed', linewidth = 2, label='rng')\n",
    "plt.axvline(x=var, color = 'cyan', linestyle='dashed', linewidth = 2, label='var')\n",
    "plt.axvline(x=std, color = 'red', linestyle='dashed', linewidth = 2, label='std')\n",
    "plt.legend()"
   ]
  },
  {
   "cell_type": "markdown",
   "metadata": {
    "id": "c2ZOMNzwzTSW"
   },
   "source": []
  },
  {
   "cell_type": "markdown",
   "metadata": {
    "id": "7dPYJuzlyAFN"
   },
   "source": [
    "### Testes de Hipóteses - Pergunta 2"
   ]
  },
  {
   "cell_type": "markdown",
   "metadata": {
    "id": "hT7YIwM4ob4y"
   },
   "source": [
    "Realizando a separação de dados por governos:"
   ]
  },
  {
   "cell_type": "code",
   "execution_count": null,
   "metadata": {
    "id": "8gLTQqpbBiMx"
   },
   "outputs": [],
   "source": [
    "##Nos nomes dos df's, xm representa o número x do mandato \n",
    "df_fhc_1m = df.query('Ano >= 1995 and Ano <= 1998')\n",
    "df_fhc_2m = df.query('Ano >= 1999 and Ano <= 2002')\n",
    "df_lula_1m = df.query('Ano >= 2003 and Ano <= 2006')\n",
    "df_lula_2m = df.query('Ano >= 2007 and Ano <= 2010')\n",
    "df_dilma_1m = df.query('Ano >= 2011 and Ano <= 2014')\n",
    "df_dilma_2m = df.query('Ano >= 2015 and Ano <= 2016')\n",
    "df_temer_1m = df.query('Ano >= 2017 and Ano <= 2018')"
   ]
  },
  {
   "cell_type": "code",
   "execution_count": null,
   "metadata": {
    "colab": {
     "base_uri": "https://localhost:8080/"
    },
    "id": "FMgh8oI4H-B8",
    "outputId": "c6643936-56ab-4082-83f7-7497828683f3"
   },
   "outputs": [
    {
     "name": "stdout",
     "output_type": "stream",
     "text": [
      "FHC 1:  324\n",
      "FHC 2:  1296\n",
      "LULA 1:  1296\n",
      "LULA 2:  1296\n",
      "DILMA 1:  1296\n",
      "DILMA 2:  648\n",
      "TEMER 1:  298\n"
     ]
    }
   ],
   "source": [
    "##Verificando o número de dados presentes em cada governo\n",
    "fhc_1m_size = len(df_fhc_1m)\n",
    "print(\"FHC 1: \", fhc_1m_size)\n",
    "fhc_2m_size = len(df_fhc_2m)\n",
    "print(\"FHC 2: \", fhc_2m_size)\n",
    "lula_1m_size = len(df_lula_1m)\n",
    "print(\"LULA 1: \", lula_1m_size)\n",
    "lula_2m_size = len(df_lula_2m)\n",
    "print(\"LULA 2: \", lula_2m_size)\n",
    "dilma_1m_size = len(df_dilma_1m)\n",
    "print(\"DILMA 1: \", dilma_1m_size)\n",
    "dilma_2m_size = len(df_dilma_2m)\n",
    "print(\"DILMA 2: \", dilma_2m_size)\n",
    "temer_1m_size = len(df_temer_1m) \n",
    "print(\"TEMER 1: \", temer_1m_size)"
   ]
  },
  {
   "cell_type": "markdown",
   "metadata": {
    "id": "dbSw5Z1YUGGZ"
   },
   "source": [
    "Queremos fazer um intervalo de confiança do número total de queimadas para todos os governos:"
   ]
  },
  {
   "cell_type": "code",
   "execution_count": null,
   "metadata": {
    "colab": {
     "base_uri": "https://localhost:8080/"
    },
    "id": "G71qGN7hUNAA",
    "outputId": "c930921b-4be7-4a47-bf51-3f48e56e4d26"
   },
   "outputs": [
    {
     "name": "stdout",
     "output_type": "stream",
     "text": [
      "Intervalo de Confiança para FHC 2: [617417.7429, 617548.2571]\n",
      "Intervalo de Confiança para LULA 1: [883191.2877, 883368.7123]\n",
      "Intervalo de Confiança para LULA 2: [726905.7844, 727066.2156]\n",
      "Intervalo de Confiança para DILMA 1: [625661.1486, 625768.8514]\n"
     ]
    }
   ],
   "source": [
    "alpha = 0.90\n",
    "LI_fhc_2 = df_fhc_2m['Número'].sum() - ss.norm.ppf(alpha+(1-alpha)/2).round(2) * (df_fhc_2m['Número'].std(ddof=1) / np.sqrt(fhc_2m_size))\n",
    "LS_fhc_2 = df_fhc_2m['Número'].sum() + ss.norm.ppf(alpha+(1-alpha)/2).round(2) * (df_fhc_2m['Número'].std(ddof=1) / np.sqrt(fhc_2m_size))\n",
    "print('Intervalo de Confiança para FHC 2: [{}, {}]'.format(LI_fhc_2.round(4), LS_fhc_2.round(4)))\n",
    "\n",
    "LI_lula_1 = df_lula_1m['Número'].sum() - ss.norm.ppf(alpha+(1-alpha)/2).round(2) * (df_lula_1m['Número'].std(ddof=1) / np.sqrt(lula_1m_size))\n",
    "LS_lula_1 = df_lula_1m['Número'].sum() + ss.norm.ppf(alpha+(1-alpha)/2).round(2) * (df_lula_1m['Número'].std(ddof=1) / np.sqrt(lula_1m_size))\n",
    "print('Intervalo de Confiança para LULA 1: [{}, {}]'.format(LI_lula_1.round(4), LS_lula_1.round(4)))\n",
    "\n",
    "LI_lula_2 = df_lula_2m['Número'].sum() - ss.norm.ppf(alpha+(1-alpha)/2).round(2) * (df_lula_2m['Número'].std(ddof=1) / np.sqrt(lula_2m_size))\n",
    "LS_lula_2 = df_lula_2m['Número'].sum() + ss.norm.ppf(alpha+(1-alpha)/2).round(2) * (df_lula_2m['Número'].std(ddof=1) / np.sqrt(lula_2m_size))\n",
    "print('Intervalo de Confiança para LULA 2: [{}, {}]'.format(LI_lula_2.round(4), LS_lula_2.round(4)))\n",
    "\n",
    "LI_dilma_1 = df_dilma_1m['Número'].sum() - ss.norm.ppf(alpha+(1-alpha)/2).round(2) * (df_dilma_1m['Número'].std(ddof=1) / np.sqrt(dilma_1m_size))\n",
    "LS_dilma_1 = df_dilma_1m['Número'].sum() + ss.norm.ppf(alpha+(1-alpha)/2).round(2) * (df_dilma_1m['Número'].std(ddof=1) / np.sqrt(dilma_1m_size))\n",
    "print('Intervalo de Confiança para DILMA 1: [{}, {}]'.format(LI_dilma_1.round(4), LS_dilma_1.round(4)))"
   ]
  },
  {
   "cell_type": "markdown",
   "metadata": {
    "id": "IwMxnwGLOZuC"
   },
   "source": [
    "Queremos realizar bootstrap para criar um intervalo de confiança do número \n",
    "total de queimadas para aqueles que dispomos de poucos dados\n",
    "Sendo assim, realizaremos para FHC em seu primeiro mandato, Dilma em seu segundo e para Temer:"
   ]
  },
  {
   "cell_type": "code",
   "execution_count": null,
   "metadata": {
    "colab": {
     "base_uri": "https://localhost:8080/"
    },
    "id": "Mpw3frAgJvc7",
    "outputId": "0bcbb18d-1dfa-4a87-c1f0-c3238904519c"
   },
   "outputs": [
    {
     "name": "stdout",
     "output_type": "stream",
     "text": [
      "Intervalo de Confiança para FHC 1: [88311.05, 164591.5]\n"
     ]
    }
   ],
   "source": [
    "##Bootstrap para FHC 1\n",
    "\n",
    "n_sub = 1000 ##Número de sub-amostras\n",
    "values_fhc_1 = np.zeros(n_sub)\n",
    "for i in range(n_sub):\n",
    "  sample = df_fhc_1m.sample(fhc_1m_size, replace=True, random_state=i) \n",
    "  values_fhc_1[i] = sample['Número'].sum()\n",
    "  \n",
    "# Gerando valores inferior e superior para um nível de confiança de 90%\n",
    "LI_fhc_1 = (np.percentile(values_fhc_1, 5.0))\n",
    "LS_fhc_1 = (np.percentile(values_fhc_1, 95.0))\n",
    "\n",
    "print('Intervalo de Confiança para FHC 1: [{}, {}]'.format(LI_fhc_1.round(4), LS_fhc_1.round(4)))"
   ]
  },
  {
   "cell_type": "code",
   "execution_count": null,
   "metadata": {
    "colab": {
     "base_uri": "https://localhost:8080/"
    },
    "id": "j_9jzi20QGiF",
    "outputId": "ffcd2896-c45f-40c1-ee5d-a7b4a28a81f9"
   },
   "outputs": [
    {
     "data": {
      "text/plain": [
       "Text(0.5, 1.0, 'Queimadas FHC 1 Mandato')"
      ]
     },
     "execution_count": 49,
     "metadata": {},
     "output_type": "execute_result"
    },
    {
     "data": {
      "image/png": "[encoded data removed]",
      "text/plain": [
       "<Figure size 1296x720 with 1 Axes>"
      ]
     },
     "metadata": {
      "needs_background": "light"
     },
     "output_type": "display_data"
    }
   ],
   "source": [
    "plt.figure(figsize=(18, 10))\n",
    "plt.hist((values_fhc_1),edgecolor='k', bins=None,lw=1)\n",
    "plt.xlabel('Número total de queimadas')\n",
    "plt.title('Queimadas FHC 1 Mandato')"
   ]
  },
  {
   "cell_type": "code",
   "execution_count": null,
   "metadata": {
    "colab": {
     "base_uri": "https://localhost:8080/"
    },
    "id": "CwCsjcY1Omii",
    "outputId": "561199dc-474d-495c-bec8-09835d50414e"
   },
   "outputs": [
    {
     "name": "stdout",
     "output_type": "stream",
     "text": [
      "Intervalo de Confiança para Temer 1: [190828.1, 340314.85]\n"
     ]
    }
   ],
   "source": [
    "##Bootstrap para Temer\n",
    "\n",
    "n_sub = 1000 ##Número de sub-amostras\n",
    "values_temer_1 = np.zeros(n_sub)\n",
    "for i in range(n_sub):\n",
    "  sample = df_temer_1m.sample(temer_1m_size, replace=True, random_state=i) \n",
    "  values_temer_1[i] = sample['Número'].sum()\n",
    "  \n",
    "# Gerando valores inferior e superior para um nível de confiança de 90%\n",
    "LI_temer_1 = (np.percentile(values_temer_1, 5.0))\n",
    "LS_temer_1 = (np.percentile(values_temer_1, 95.0))\n",
    "\n",
    "print('Intervalo de Confiança para Temer 1: [{}, {}]'.format(LI_temer_1.round(4), LS_temer_1.round(4)))"
   ]
  },
  {
   "cell_type": "code",
   "execution_count": null,
   "metadata": {
    "colab": {
     "base_uri": "https://localhost:8080/"
    },
    "id": "guMYXSflL1jF",
    "outputId": "b34b8a95-0023-47ba-89d8-13a0acab7375"
   },
   "outputs": [
    {
     "data": {
      "text/plain": [
       "Text(0.5, 1.0, 'Queimadas Temer 1 Mandato')"
      ]
     },
     "execution_count": 51,
     "metadata": {},
     "output_type": "execute_result"
    },
    {
     "data": {
      "image/png": "[encoded data removed]",
      "text/plain": [
       "<Figure size 1296x720 with 1 Axes>"
      ]
     },
     "metadata": {
      "needs_background": "light"
     },
     "output_type": "display_data"
    }
   ],
   "source": [
    "plt.figure(figsize=(18, 10))\n",
    "plt.hist(values_temer_1,edgecolor='k', bins=None,lw=1)\n",
    "plt.xlabel('Número total de queimadas')\n",
    "plt.title('Queimadas Temer 1 Mandato')"
   ]
  },
  {
   "cell_type": "code",
   "execution_count": null,
   "metadata": {
    "colab": {
     "base_uri": "https://localhost:8080/"
    },
    "id": "JsDBXqA9XG-c",
    "outputId": "4ad7a26d-9385-42c5-861c-dc8497a95956"
   },
   "outputs": [
    {
     "name": "stdout",
     "output_type": "stream",
     "text": [
      "Intervalo de Confiança para Dilma 2: [365120.7, 482395.8]\n"
     ]
    }
   ],
   "source": [
    "##Bootstrap para Dilma 2\n",
    "\n",
    "n_sub = 1000 ##Número de sub-amostras\n",
    "values_dilma_2 = np.zeros(n_sub)\n",
    "for i in range(n_sub):\n",
    "  sample = df_dilma_2m.sample(dilma_2m_size, replace=True, random_state=i) \n",
    "  values_dilma_2[i] = sample['Número'].sum()\n",
    "  \n",
    "# Gerando valores inferior e superior para um nível de confiança de 90%\n",
    "LI_dilma_2 = (np.percentile(values_dilma_2, 5.0))\n",
    "LS_dilma_2 = (np.percentile(values_dilma_2, 95.0))\n",
    "\n",
    "print('Intervalo de Confiança para Dilma 2: [{}, {}]'.format(LI_dilma_2.round(4), LS_dilma_2.round(4)))"
   ]
  },
  {
   "cell_type": "code",
   "execution_count": null,
   "metadata": {
    "colab": {
     "base_uri": "https://localhost:8080/"
    },
    "id": "eel5jOLcXivk",
    "outputId": "5a1e32c3-c7c1-440f-b7b2-d24bfc4186e0"
   },
   "outputs": [
    {
     "data": {
      "text/plain": [
       "Text(0.5, 1.0, 'Queimadas Dilma 2 Mandato')"
      ]
     },
     "execution_count": 53,
     "metadata": {},
     "output_type": "execute_result"
    },
    {
     "data": {
      "image/png": "[encoded data removed]",
      "text/plain": [
       "<Figure size 1296x720 with 1 Axes>"
      ]
     },
     "metadata": {
      "needs_background": "light"
     },
     "output_type": "display_data"
    }
   ],
   "source": [
    "plt.figure(figsize=(18, 10))\n",
    "plt.hist(values_dilma_2,edgecolor='k', bins=None,lw=1)\n",
    "plt.xlabel('Número total de queimadas')\n",
    "plt.title('Queimadas Dilma 2 Mandato')"
   ]
  },
  {
   "cell_type": "markdown",
   "metadata": {
    "id": "BIksWJN2ydJ5"
   },
   "source": [
    "### Regressões Lineares - Pergunta 2"
   ]
  },
  {
   "cell_type": "markdown",
   "metadata": {
    "id": "5lBh8-jYKnRT"
   },
   "source": [
    "Queremos agora realizar previsões para os números de queimadas por governos:"
   ]
  },
  {
   "cell_type": "code",
   "execution_count": null,
   "metadata": {
    "colab": {
     "base_uri": "https://localhost:8080/"
    },
    "id": "OFlmkzkLRSL9",
    "outputId": "0bc8032b-2534-49f2-8441-8676cb7d50b4"
   },
   "outputs": [
    {
     "name": "stdout",
     "output_type": "stream",
     "text": [
      "r2: 0.06425663715217611\n",
      "mae: 48751.17338345852\n"
     ]
    },
    {
     "data": {
      "image/png": "[encoded data removed]",
      "text/plain": [
       "<Figure size 432x288 with 1 Axes>"
      ]
     },
     "metadata": {
      "needs_background": "light"
     },
     "output_type": "display_data"
    }
   ],
   "source": [
    "##Primeiro, um modelo geral para todo o período anual contido pela base de dados\n",
    "\n",
    "df_number_by_year\n",
    "model = LinearRegression()\n",
    "x = df_number_by_year['Ano'].values\n",
    "x = x.reshape(-1,1)\n",
    "y = df_number_by_year['Quantidade de Queimadas'].values\n",
    "reg = model.fit(x,y)\n",
    "y_pred = reg.predict(x)\n",
    "r_square = reg.score(x,y)\n",
    "mae = mean_absolute_error(y, y_pred)\n",
    "print(\"r2:\", r_square)\n",
    "print(\"mae:\", mae)\n",
    "plt.scatter(df_number_by_year['Ano'].values,y)\n",
    "plt.plot(df_number_by_year['Ano'].values,y_pred)\n",
    "plt.title(\"Regressao Linear Modelo Geral por Anos\")\n",
    "despine()"
   ]
  },
  {
   "cell_type": "code",
   "execution_count": null,
   "metadata": {
    "colab": {
     "base_uri": "https://localhost:8080/"
    },
    "id": "tZQ_vuUhcw94",
    "outputId": "3e07295f-c17a-4791-df35-1b025ac08396"
   },
   "outputs": [
    {
     "name": "stdout",
     "output_type": "stream",
     "text": [
      "r2: 0.3153674659451038\n",
      "mae: 222578.39627039628\n"
     ]
    },
    {
     "data": {
      "image/png": "[encoded data removed]",
      "text/plain": [
       "<Figure size 432x288 with 1 Axes>"
      ]
     },
     "metadata": {
      "needs_background": "light"
     },
     "output_type": "display_data"
    }
   ],
   "source": [
    "##Agora, um modelo geral para todo o período mensal contido pela base de dados\n",
    "\n",
    "df_number_by_month = df.groupby('Mês').sum()['Número'].reset_index().rename(columns={'Mês': 'Mês', 'Número': 'Quantidade de Queimadas'})\n",
    "df_number_by_month.loc[df_number_by_month['Mês'] == \"Janeiro\", 'Mês'] = 1\n",
    "df_number_by_month.loc[df_number_by_month['Mês'] == \"Fevereiro\", 'Mês'] = 2\n",
    "df_number_by_month.loc[df_number_by_month['Mês'] == \"Março\", 'Mês'] = 3\n",
    "df_number_by_month.loc[df_number_by_month['Mês'] == \"Abril\", 'Mês'] = 4\n",
    "df_number_by_month.loc[df_number_by_month['Mês'] == \"Maio\", 'Mês'] = 5\n",
    "df_number_by_month.loc[df_number_by_month['Mês'] == \"Junho\", 'Mês'] = 6\n",
    "df_number_by_month.loc[df_number_by_month['Mês'] == \"Julho\", 'Mês'] = 7\n",
    "df_number_by_month.loc[df_number_by_month['Mês'] == \"Agosto\", 'Mês'] = 8\n",
    "df_number_by_month.loc[df_number_by_month['Mês'] == \"Setembro\", 'Mês'] = 9\n",
    "df_number_by_month.loc[df_number_by_month['Mês'] == \"Outubro\", 'Mês'] = 10\n",
    "df_number_by_month.loc[df_number_by_month['Mês'] == \"Novembro\", 'Mês'] = 11\n",
    "df_number_by_month.loc[df_number_by_month['Mês'] == \"Dezembro\", 'Mês'] = 12\n",
    "df_number_by_month\n",
    "\n",
    "model = LinearRegression()\n",
    "x = df_number_by_month['Mês'].values\n",
    "x = x.reshape(-1,1)\n",
    "y = df_number_by_month['Quantidade de Queimadas'].values\n",
    "reg = model.fit(x,y)\n",
    "y_pred = reg.predict(x)\n",
    "r_square = reg.score(x,y)\n",
    "mae = mean_absolute_error(y, y_pred)\n",
    "print(\"r2:\", r_square)\n",
    "print(\"mae:\", mae)\n",
    "plt.scatter(df_number_by_month['Mês'].values,y)\n",
    "plt.plot(df_number_by_month['Mês'].values,y_pred)\n",
    "plt.title(\"Regressao Linear Modelo Geral por Meses\")\n",
    "despine()"
   ]
  },
  {
   "cell_type": "code",
   "execution_count": null,
   "metadata": {
    "colab": {
     "base_uri": "https://localhost:8080/"
    },
    "id": "k_opfI1vl7Tl",
    "outputId": "31bbdd09-e66c-431a-8041-074e5dd2db62"
   },
   "outputs": [
    {
     "name": "stdout",
     "output_type": "stream",
     "text": [
      "r2 para fhc 1: 0.35853228632252143\n",
      "mae para fhc 1: 36331.24669774669\n"
     ]
    },
    {
     "data": {
      "image/png": "[encoded data removed]",
      "text/plain": [
       "<Figure size 432x288 with 1 Axes>"
      ]
     },
     "metadata": {
      "needs_background": "light"
     },
     "output_type": "display_data"
    }
   ],
   "source": [
    "##Regressão Linear para FHC 2\n",
    "\n",
    "df_fhc_2m_values = df_fhc_2m.groupby('Mês').sum()['Número'].reset_index().rename(columns={'Mês': 'Mês', 'Número': 'Quantidade de Queimadas'})\n",
    "df_fhc_2m_values.loc[df_fhc_2m_values['Mês'] == \"Janeiro\", 'Mês'] = 1\n",
    "df_fhc_2m_values.loc[df_fhc_2m_values['Mês'] == \"Fevereiro\", 'Mês'] = 2\n",
    "df_fhc_2m_values.loc[df_fhc_2m_values['Mês'] == \"Março\", 'Mês'] = 3\n",
    "df_fhc_2m_values.loc[df_fhc_2m_values['Mês'] == \"Abril\", 'Mês'] = 4\n",
    "df_fhc_2m_values.loc[df_fhc_2m_values['Mês'] == \"Maio\", 'Mês'] = 5\n",
    "df_fhc_2m_values.loc[df_fhc_2m_values['Mês'] == \"Junho\", 'Mês'] = 6\n",
    "df_fhc_2m_values.loc[df_fhc_2m_values['Mês'] == \"Julho\", 'Mês'] = 7\n",
    "df_fhc_2m_values.loc[df_fhc_2m_values['Mês'] == \"Agosto\", 'Mês'] = 8\n",
    "df_fhc_2m_values.loc[df_fhc_2m_values['Mês'] == \"Setembro\", 'Mês'] = 9\n",
    "df_fhc_2m_values.loc[df_fhc_2m_values['Mês'] == \"Outubro\", 'Mês'] = 10\n",
    "df_fhc_2m_values.loc[df_fhc_2m_values['Mês'] == \"Novembro\", 'Mês'] = 11\n",
    "df_fhc_2m_values.loc[df_fhc_2m_values['Mês'] == \"Dezembro\", 'Mês'] = 12\n",
    "\n",
    "model_fhc_2m = LinearRegression()\n",
    "x = df_fhc_2m_values['Mês'].values\n",
    "x = x.reshape(-1,1)\n",
    "y = df_fhc_2m_values['Quantidade de Queimadas'].values\n",
    "reg_fhc_2m = model_fhc_2m.fit(x,y)\n",
    "predict_fhc_2m = reg_fhc_2m.predict(x)\n",
    "r_square_fhc_2m = reg_fhc_2m.score(x,y)\n",
    "mae_fhc_2m = mean_absolute_error(y, predict_fhc_2m)\n",
    "print(\"r2 para fhc 1:\", r_square_fhc_2m)\n",
    "print(\"mae para fhc 1:\", mae_fhc_2m)\n",
    "plt.scatter(df_fhc_2m_values['Mês'].values,y)\n",
    "plt.plot(df_fhc_2m_values['Mês'].values,predict_fhc_2m)\n",
    "plt.title(\"Regressao Linear Modelo FHC 2 por Meses\")\n",
    "despine()"
   ]
  },
  {
   "cell_type": "code",
   "execution_count": null,
   "metadata": {
    "colab": {
     "base_uri": "https://localhost:8080/"
    },
    "id": "u_GATabeWsrv",
    "outputId": "6cdc5f3c-ad20-43ef-f876-26adbf71289e"
   },
   "outputs": [
    {
     "name": "stdout",
     "output_type": "stream",
     "text": [
      "r2 para lula 1: 0.31671089959012255\n",
      "mae para lula 1: 52404.92735042735\n"
     ]
    },
    {
     "data": {
      "image/png": "[encoded data removed]",
      "text/plain": [
       "<Figure size 432x288 with 1 Axes>"
      ]
     },
     "metadata": {
      "needs_background": "light"
     },
     "output_type": "display_data"
    }
   ],
   "source": [
    "##Regressão Linear para Lula 1\n",
    "\n",
    "df_lula_1m_values = df_lula_1m.groupby('Mês').sum()['Número'].reset_index().rename(columns={'Mês': 'Mês', 'Número': 'Quantidade de Queimadas'})\n",
    "df_lula_1m_values.loc[df_lula_1m_values['Mês'] == \"Janeiro\", 'Mês'] = 1\n",
    "df_lula_1m_values.loc[df_lula_1m_values['Mês'] == \"Fevereiro\", 'Mês'] = 2\n",
    "df_lula_1m_values.loc[df_lula_1m_values['Mês'] == \"Março\", 'Mês'] = 3\n",
    "df_lula_1m_values.loc[df_lula_1m_values['Mês'] == \"Abril\", 'Mês'] = 4\n",
    "df_lula_1m_values.loc[df_lula_1m_values['Mês'] == \"Maio\", 'Mês'] = 5\n",
    "df_lula_1m_values.loc[df_lula_1m_values['Mês'] == \"Junho\", 'Mês'] = 6\n",
    "df_lula_1m_values.loc[df_lula_1m_values['Mês'] == \"Julho\", 'Mês'] = 7\n",
    "df_lula_1m_values.loc[df_lula_1m_values['Mês'] == \"Agosto\", 'Mês'] = 8\n",
    "df_lula_1m_values.loc[df_lula_1m_values['Mês'] == \"Setembro\", 'Mês'] = 9\n",
    "df_lula_1m_values.loc[df_lula_1m_values['Mês'] == \"Outubro\", 'Mês'] = 10\n",
    "df_lula_1m_values.loc[df_lula_1m_values['Mês'] == \"Novembro\", 'Mês'] = 11\n",
    "df_lula_1m_values.loc[df_lula_1m_values['Mês'] == \"Dezembro\", 'Mês'] = 12\n",
    "\n",
    "model_lula_1m = LinearRegression()\n",
    "x = df_lula_1m_values['Mês'].values\n",
    "x = x.reshape(-1,1)\n",
    "y = df_lula_1m_values['Quantidade de Queimadas'].values\n",
    "reg_lula_1m = model_lula_1m.fit(x,y)\n",
    "predict_lula_1m = reg_lula_1m.predict(x)\n",
    "r_square_lula_1m = reg_lula_1m.score(x,y)\n",
    "mae_lula_1m = mean_absolute_error(y, predict_lula_1m)\n",
    "print(\"r2 para lula 1:\", r_square_lula_1m)\n",
    "print(\"mae para lula 1:\", mae_lula_1m)\n",
    "plt.scatter(df_lula_1m_values['Mês'].values,y)\n",
    "plt.plot(df_lula_1m_values['Mês'].values,predict_lula_1m)\n",
    "plt.title(\"Regressao Linear Modelo Lula 1 por Meses\")\n",
    "despine()"
   ]
  },
  {
   "cell_type": "code",
   "execution_count": null,
   "metadata": {
    "colab": {
     "base_uri": "https://localhost:8080/"
    },
    "id": "_nR6Nz1IfNtq",
    "outputId": "3ba34440-eebe-45ba-cac4-9b9e69273c91"
   },
   "outputs": [
    {
     "name": "stdout",
     "output_type": "stream",
     "text": [
      "r2 para lula 1: 0.2644003497504702\n",
      "mae para lula 1: 49317.61965811966\n"
     ]
    },
    {
     "data": {
      "image/png": "[encoded data removed]",
      "text/plain": [
       "<Figure size 432x288 with 1 Axes>"
      ]
     },
     "metadata": {
      "needs_background": "light"
     },
     "output_type": "display_data"
    }
   ],
   "source": [
    "##Regressão Linear para Lula 2\n",
    "\n",
    "df_lula_2m_values = df_lula_2m.groupby('Mês').sum()['Número'].reset_index().rename(columns={'Mês': 'Mês', 'Número': 'Quantidade de Queimadas'})\n",
    "df_lula_2m_values.loc[df_lula_2m_values['Mês'] == \"Janeiro\", 'Mês'] = 1\n",
    "df_lula_2m_values.loc[df_lula_2m_values['Mês'] == \"Fevereiro\", 'Mês'] = 2\n",
    "df_lula_2m_values.loc[df_lula_2m_values['Mês'] == \"Março\", 'Mês'] = 3\n",
    "df_lula_2m_values.loc[df_lula_2m_values['Mês'] == \"Abril\", 'Mês'] = 4\n",
    "df_lula_2m_values.loc[df_lula_2m_values['Mês'] == \"Maio\", 'Mês'] = 5\n",
    "df_lula_2m_values.loc[df_lula_2m_values['Mês'] == \"Junho\", 'Mês'] = 6\n",
    "df_lula_2m_values.loc[df_lula_2m_values['Mês'] == \"Julho\", 'Mês'] = 7\n",
    "df_lula_2m_values.loc[df_lula_2m_values['Mês'] == \"Agosto\", 'Mês'] = 8\n",
    "df_lula_2m_values.loc[df_lula_2m_values['Mês'] == \"Setembro\", 'Mês'] = 9\n",
    "df_lula_2m_values.loc[df_lula_2m_values['Mês'] == \"Outubro\", 'Mês'] = 10\n",
    "df_lula_2m_values.loc[df_lula_2m_values['Mês'] == \"Novembro\", 'Mês'] = 11\n",
    "df_lula_2m_values.loc[df_lula_2m_values['Mês'] == \"Dezembro\", 'Mês'] = 12\n",
    "\n",
    "model_lula_2m = LinearRegression()\n",
    "x = df_lula_2m_values['Mês'].values\n",
    "x = x.reshape(-1,1)\n",
    "y = df_lula_2m_values['Quantidade de Queimadas'].values\n",
    "reg_lula_2m = model_lula_2m.fit(x,y)\n",
    "predict_lula_2m = reg_lula_2m.predict(x)\n",
    "r_square_lula_2m = reg_lula_2m.score(x,y)\n",
    "mae_lula_2m = mean_absolute_error(y, predict_lula_2m)\n",
    "print(\"r2 para lula 1:\", r_square_lula_2m)\n",
    "print(\"mae para lula 1:\", mae_lula_2m)\n",
    "plt.scatter(df_lula_2m_values['Mês'].values,y)\n",
    "plt.plot(df_lula_2m_values['Mês'].values,predict_lula_2m)\n",
    "plt.title(\"Regressao Linear Modelo Lula 2 por Meses\")\n",
    "despine()"
   ]
  },
  {
   "cell_type": "code",
   "execution_count": null,
   "metadata": {
    "colab": {
     "base_uri": "https://localhost:8080/"
    },
    "id": "yjVMmfmQg3bB",
    "outputId": "ddacd86c-cc5d-4b98-edd3-d7f6a0bcd993"
   },
   "outputs": [
    {
     "name": "stdout",
     "output_type": "stream",
     "text": [
      "r2 para dilma 1: 0.3542470453876658\n",
      "mae para dilma 1: 35089.38772338772\n"
     ]
    },
    {
     "data": {
      "image/png": "[encoded data removed]",
      "text/plain": [
       "<Figure size 432x288 with 1 Axes>"
      ]
     },
     "metadata": {
      "needs_background": "light"
     },
     "output_type": "display_data"
    }
   ],
   "source": [
    "##Regressão Linear para Dilma 1\n",
    "\n",
    "df_dilma_1m_values = df_dilma_1m.groupby('Mês').sum()['Número'].reset_index().rename(columns={'Mês': 'Mês', 'Número': 'Quantidade de Queimadas'})\n",
    "df_dilma_1m_values.loc[df_dilma_1m_values['Mês'] == \"Janeiro\", 'Mês'] = 1\n",
    "df_dilma_1m_values.loc[df_dilma_1m_values['Mês'] == \"Fevereiro\", 'Mês'] = 2\n",
    "df_dilma_1m_values.loc[df_dilma_1m_values['Mês'] == \"Março\", 'Mês'] = 3\n",
    "df_dilma_1m_values.loc[df_dilma_1m_values['Mês'] == \"Abril\", 'Mês'] = 4\n",
    "df_dilma_1m_values.loc[df_dilma_1m_values['Mês'] == \"Maio\", 'Mês'] = 5\n",
    "df_dilma_1m_values.loc[df_dilma_1m_values['Mês'] == \"Junho\", 'Mês'] = 6\n",
    "df_dilma_1m_values.loc[df_dilma_1m_values['Mês'] == \"Julho\", 'Mês'] = 7\n",
    "df_dilma_1m_values.loc[df_dilma_1m_values['Mês'] == \"Agosto\", 'Mês'] = 8\n",
    "df_dilma_1m_values.loc[df_dilma_1m_values['Mês'] == \"Setembro\", 'Mês'] = 9\n",
    "df_dilma_1m_values.loc[df_dilma_1m_values['Mês'] == \"Outubro\", 'Mês'] = 10\n",
    "df_dilma_1m_values.loc[df_dilma_1m_values['Mês'] == \"Novembro\", 'Mês'] = 11\n",
    "df_dilma_1m_values.loc[df_dilma_1m_values['Mês'] == \"Dezembro\", 'Mês'] = 12\n",
    "\n",
    "model_dilma_1m = LinearRegression()\n",
    "x = df_dilma_1m_values['Mês'].values\n",
    "x = x.reshape(-1,1)\n",
    "y = df_dilma_1m_values['Quantidade de Queimadas'].values\n",
    "reg_dilma_1m = model_dilma_1m.fit(x,y)\n",
    "predict_dilma_1m = reg_dilma_1m.predict(x)\n",
    "r_square_dilma_1m = reg_dilma_1m.score(x,y)\n",
    "mae_dilma_1m = mean_absolute_error(y, predict_dilma_1m)\n",
    "print(\"r2 para dilma 1:\", r_square_dilma_1m)\n",
    "print(\"mae para dilma 1:\", mae_dilma_1m)\n",
    "plt.scatter(df_dilma_1m_values['Mês'].values,y)\n",
    "plt.plot(df_dilma_1m_values['Mês'].values,predict_dilma_1m)\n",
    "plt.title(\"Regressao Linear Modelo Dilma 1 por Meses\")\n",
    "despine()"
   ]
  },
  {
   "cell_type": "code",
   "execution_count": null,
   "metadata": {
    "colab": {
     "base_uri": "https://localhost:8080/"
    },
    "id": "VrraYG2ijO0L",
    "outputId": "88e93d2a-3a97-4d64-f389-f1cede0fe8d6"
   },
   "outputs": [
    {
     "name": "stdout",
     "output_type": "stream",
     "text": [
      "r2 para dilma 2: 0.39579050055681697\n",
      "mae para dilma 2: 21740.842268842272\n"
     ]
    },
    {
     "data": {
      "image/png": "[encoded data removed]",
      "text/plain": [
       "<Figure size 432x288 with 1 Axes>"
      ]
     },
     "metadata": {
      "needs_background": "light"
     },
     "output_type": "display_data"
    }
   ],
   "source": [
    "##Regressão Linear para Dilma 2\n",
    "\n",
    "df_dilma_2m_values = df_dilma_2m.groupby('Mês').sum()['Número'].reset_index().rename(columns={'Mês': 'Mês', 'Número': 'Quantidade de Queimadas'})\n",
    "df_dilma_2m_values.loc[df_dilma_2m_values['Mês'] == \"Janeiro\", 'Mês'] = 1\n",
    "df_dilma_2m_values.loc[df_dilma_2m_values['Mês'] == \"Fevereiro\", 'Mês'] = 2\n",
    "df_dilma_2m_values.loc[df_dilma_2m_values['Mês'] == \"Março\", 'Mês'] = 3\n",
    "df_dilma_2m_values.loc[df_dilma_2m_values['Mês'] == \"Abril\", 'Mês'] = 4\n",
    "df_dilma_2m_values.loc[df_dilma_2m_values['Mês'] == \"Maio\", 'Mês'] = 5\n",
    "df_dilma_2m_values.loc[df_dilma_2m_values['Mês'] == \"Junho\", 'Mês'] = 6\n",
    "df_dilma_2m_values.loc[df_dilma_2m_values['Mês'] == \"Julho\", 'Mês'] = 7\n",
    "df_dilma_2m_values.loc[df_dilma_2m_values['Mês'] == \"Agosto\", 'Mês'] = 8\n",
    "df_dilma_2m_values.loc[df_dilma_2m_values['Mês'] == \"Setembro\", 'Mês'] = 9\n",
    "df_dilma_2m_values.loc[df_dilma_2m_values['Mês'] == \"Outubro\", 'Mês'] = 10\n",
    "df_dilma_2m_values.loc[df_dilma_2m_values['Mês'] == \"Novembro\", 'Mês'] = 11\n",
    "df_dilma_2m_values.loc[df_dilma_2m_values['Mês'] == \"Dezembro\", 'Mês'] = 12\n",
    "\n",
    "model_dilma_2m = LinearRegression()\n",
    "x = df_dilma_2m_values['Mês'].values\n",
    "x = x.reshape(-1,1)\n",
    "y = df_dilma_2m_values['Quantidade de Queimadas'].values\n",
    "reg_dilma_2m = model_dilma_2m.fit(x,y)\n",
    "predict_dilma_2m = reg_dilma_2m.predict(x)\n",
    "r_square_dilma_2m = reg_dilma_2m.score(x,y)\n",
    "mae_dilma_2m = mean_absolute_error(y, predict_dilma_2m)\n",
    "print(\"r2 para dilma 2:\", r_square_dilma_2m)\n",
    "print(\"mae para dilma 2:\", mae_dilma_2m)\n",
    "plt.scatter(df_dilma_2m_values['Mês'].values,y)\n",
    "plt.plot(df_dilma_2m_values['Mês'].values,predict_dilma_2m)\n",
    "plt.title(\"Regressao Linear Modelo Dilma 2\")\n",
    "despine()"
   ]
  },
  {
   "cell_type": "markdown",
   "metadata": {
    "id": "s_ymMFECyVLD"
   },
   "source": [
    "### Classificação e ML - Pergunta 2"
   ]
  },
  {
   "cell_type": "markdown",
   "metadata": {
    "id": "8Q7BaOug09zj"
   },
   "source": [
    "Queremos realizar um KNN para a base de dados em relação aos anos e número de queimadas, de forma a analisar seu desempenho. O classificador da base será o atributo dos anos, no que diz respeito às queimadas das duas metades de períodos dos dados."
   ]
  },
  {
   "cell_type": "markdown",
   "metadata": {
    "id": "rg-2JqU-zDrd"
   },
   "source": [
    "Processo de Z-normalização:"
   ]
  },
  {
   "cell_type": "code",
   "execution_count": null,
   "metadata": {
    "id": "8iXLtlZKycm5"
   },
   "outputs": [],
   "source": [
    "df_knn_nby = df.copy()\n",
    "df_knn_nby.loc[:,'Ano'] = (df_knn_nby['Ano'] <= 2007).astype(int)\n",
    "X = df_knn_nby.copy()\n",
    "X = X.drop('Ano', axis=1)\n",
    "y = df_knn_nby['Ano']"
   ]
  },
  {
   "cell_type": "code",
   "execution_count": null,
   "metadata": {
    "colab": {
     "base_uri": "https://localhost:8080/"
    },
    "id": "O2GuWrTEyhaA",
    "outputId": "b5cc34ea-04c2-4237-f99b-11c97b474f6b"
   },
   "outputs": [
    {
     "name": "stdout",
     "output_type": "stream",
     "text": [
      "(5163, 4)\n",
      "(1291, 4)\n"
     ]
    }
   ],
   "source": [
    "X_train, X_test, y_train, y_test = train_test_split(X, y, test_size=0.2)\n",
    "print(X_train.shape)\n",
    "print(X_test.shape)"
   ]
  },
  {
   "cell_type": "code",
   "execution_count": null,
   "metadata": {
    "id": "feGa2y-gLhYb"
   },
   "outputs": [],
   "source": [
    "non_strings = []\n",
    "for i, col in enumerate(df_knn_nby.columns):\n",
    "    if df_knn_nby.dtypes[i] != np.dtype('object'):\n",
    "        non_strings.append(col)"
   ]
  },
  {
   "cell_type": "code",
   "execution_count": null,
   "metadata": {
    "id": "pEDB7EP0yuVt"
   },
   "outputs": [],
   "source": [
    "non_strings = non_strings[1::]\n",
    "mean_train = X_train[non_strings].mean()\n",
    "std_train = X_train[non_strings].std(ddof=1)\n",
    "\n",
    "Z_train = X_train.copy()\n",
    "Z_train[non_strings] = X_train[non_strings] - mean_train\n",
    "Z_train[non_strings] = Z_train[non_strings] / std_train\n",
    "\n",
    "Z_test = X_test.copy()\n",
    "Z_test[non_strings] = X_test[non_strings] - mean_train\n",
    "Z_test[non_strings] = Z_test[non_strings] / std_train"
   ]
  },
  {
   "cell_type": "markdown",
   "metadata": {
    "id": "Sg0gna7nzJyy"
   },
   "source": [
    "KNN -> Treino, Validação, Teste, Precisão, Revocação, F1 e Matriz de Confusão:"
   ]
  },
  {
   "cell_type": "code",
   "execution_count": null,
   "metadata": {
    "id": "kW4BKj6hy-sp"
   },
   "outputs": [],
   "source": [
    "D_train = pd.get_dummies(Z_train)\n",
    "D_test = pd.get_dummies(Z_test)"
   ]
  },
  {
   "cell_type": "code",
   "execution_count": null,
   "metadata": {
    "colab": {
     "base_uri": "https://localhost:8080/"
    },
    "id": "I6X2nzWGzOux",
    "outputId": "e6e7c366-8d40-4125-cc35-2200aed553fb"
   },
   "outputs": [
    {
     "name": "stdout",
     "output_type": "stream",
     "text": [
      "K: 1\n",
      "Precisão: 0.755082284607938\n",
      "Revocação: 0.755082284607938\n",
      "F1: 0.755082284607938\n",
      "Matriz de Confusão:\n",
      " [[382 126]\n",
      " [127 398]]\n",
      "mean squared error:\n",
      " 0.24491771539206195\n",
      "Precisão: 0.8286544046466602\n",
      "Revocação: 0.8286544046466602\n",
      "F1: 0.8286544046466602\n",
      "Matriz de Confusão:\n",
      " [[423  85]\n",
      " [ 92 433]]\n",
      "mean squared error:\n",
      " 0.1713455953533398\n",
      "Precisão: 0.8683446272991288\n",
      "Revocação: 0.8683446272991288\n",
      "F1: 0.8683446272991286\n",
      "Matriz de Confusão:\n",
      " [[436  72]\n",
      " [ 64 461]]\n",
      "mean squared error:\n",
      " 0.13165537270087124\n",
      "Precisão: 0.9070667957405615\n",
      "Revocação: 0.9070667957405615\n",
      "F1: 0.9070667957405615\n",
      "Matriz de Confusão:\n",
      " [[462  46]\n",
      " [ 50 475]]\n",
      "mean squared error:\n",
      " 0.09293320425943853\n",
      "Precisão: 0.9264278799612778\n",
      "Revocação: 0.9264278799612778\n",
      "F1: 0.9264278799612778\n",
      "Matriz de Confusão:\n",
      " [[471  37]\n",
      " [ 39 486]]\n",
      "mean squared error:\n",
      " 0.07357212003872217\n",
      "Precisão: 0.9545014520813165\n",
      "Revocação: 0.9545014520813165\n",
      "F1: 0.9545014520813165\n",
      "Matriz de Confusão:\n",
      " [[484  24]\n",
      " [ 23 502]]\n",
      "mean squared error:\n",
      " 0.04549854791868345\n",
      "Precisão: 0.9670861568247822\n",
      "Revocação: 0.9670861568247822\n",
      "F1: 0.9670861568247822\n",
      "Matriz de Confusão:\n",
      " [[490  18]\n",
      " [ 16 509]]\n",
      "mean squared error:\n",
      " 0.03291384317521781\n",
      "Precisão: 0.9806389157792836\n",
      "Revocação: 0.9806389157792836\n",
      "F1: 0.9806389157792836\n",
      "Matriz de Confusão:\n",
      " [[496  12]\n",
      " [  8 517]]\n",
      "mean squared error:\n",
      " 0.01936108422071636\n",
      "\n",
      "\n",
      "K: 2\n",
      "Precisão: 0.7579864472410455\n",
      "Revocação: 0.7579864472410455\n",
      "F1: 0.7579864472410455\n",
      "Matriz de Confusão:\n",
      " [[379 129]\n",
      " [121 404]]\n",
      "mean squared error:\n",
      " 0.2420135527589545\n",
      "Precisão: 0.814133591481123\n",
      "Revocação: 0.814133591481123\n",
      "F1: 0.814133591481123\n",
      "Matriz de Confusão:\n",
      " [[416  92]\n",
      " [100 425]]\n",
      "mean squared error:\n",
      " 0.18586640851887706\n",
      "Precisão: 0.89351403678606\n",
      "Revocação: 0.89351403678606\n",
      "F1: 0.89351403678606\n",
      "Matriz de Confusão:\n",
      " [[449  59]\n",
      " [ 51 474]]\n",
      "mean squared error:\n",
      " 0.10648596321393998\n",
      "Precisão: 0.9283639883833494\n",
      "Revocação: 0.9283639883833494\n",
      "F1: 0.9283639883833494\n",
      "Matriz de Confusão:\n",
      " [[468  40]\n",
      " [ 34 491]]\n",
      "mean squared error:\n",
      " 0.07163601161665054\n",
      "Precisão: 0.9419167473378509\n",
      "Revocação: 0.9419167473378509\n",
      "F1: 0.9419167473378509\n",
      "Matriz de Confusão:\n",
      " [[474  34]\n",
      " [ 26 499]]\n",
      "mean squared error:\n",
      " 0.05808325266214908\n",
      "Precisão: 0.9554695062923524\n",
      "Revocação: 0.9554695062923524\n",
      "F1: 0.9554695062923524\n",
      "Matriz de Confusão:\n",
      " [[477  31]\n",
      " [ 15 510]]\n",
      "mean squared error:\n",
      " 0.044530493707647625\n",
      "Precisão: 0.9583736689254598\n",
      "Revocação: 0.9583736689254598\n",
      "F1: 0.9583736689254598\n",
      "Matriz de Confusão:\n",
      " [[480  28]\n",
      " [ 15 510]]\n",
      "mean squared error:\n",
      " 0.041626331074540175\n",
      "Precisão: 0.978702807357212\n",
      "Revocação: 0.978702807357212\n",
      "F1: 0.978702807357212\n",
      "Matriz de Confusão:\n",
      " [[497  11]\n",
      " [ 11 514]]\n",
      "mean squared error:\n",
      " 0.021297192642787996\n",
      "\n",
      "\n",
      "K: 3\n",
      "Precisão: 0.7783155856727977\n",
      "Revocação: 0.7783155856727977\n",
      "F1: 0.7783155856727977\n",
      "Matriz de Confusão:\n",
      " [[385 123]\n",
      " [106 419]]\n",
      "mean squared error:\n",
      " 0.22168441432720232\n",
      "Precisão: 0.8412391093901258\n",
      "Revocação: 0.8412391093901258\n",
      "F1: 0.8412391093901258\n",
      "Matriz de Confusão:\n",
      " [[422  86]\n",
      " [ 78 447]]\n",
      "mean squared error:\n",
      " 0.15876089060987417\n",
      "Precisão: 0.882865440464666\n",
      "Revocação: 0.882865440464666\n",
      "F1: 0.882865440464666\n",
      "Matriz de Confusão:\n",
      " [[443  65]\n",
      " [ 56 469]]\n",
      "mean squared error:\n",
      " 0.11713455953533398\n",
      "Precisão: 0.9167473378509197\n",
      "Revocação: 0.9167473378509197\n",
      "F1: 0.9167473378509197\n",
      "Matriz de Confusão:\n",
      " [[461  47]\n",
      " [ 39 486]]\n",
      "mean squared error:\n",
      " 0.08325266214908035\n",
      "Precisão: 0.9332042594385286\n",
      "Revocação: 0.9332042594385286\n",
      "F1: 0.9332042594385286\n",
      "Matriz de Confusão:\n",
      " [[465  43]\n",
      " [ 26 499]]\n",
      "mean squared error:\n",
      " 0.06679574056147145\n",
      "Precisão: 0.9477250726040658\n",
      "Revocação: 0.9477250726040658\n",
      "F1: 0.9477250726040658\n",
      "Matriz de Confusão:\n",
      " [[475  33]\n",
      " [ 21 504]]\n",
      "mean squared error:\n",
      " 0.05227492739593417\n",
      "Precisão: 0.9651500484027106\n",
      "Revocação: 0.9651500484027106\n",
      "F1: 0.9651500484027106\n",
      "Matriz de Confusão:\n",
      " [[484  24]\n",
      " [ 12 513]]\n",
      "mean squared error:\n",
      " 0.03484995159728945\n",
      "Precisão: 0.9777347531461762\n",
      "Revocação: 0.9777347531461762\n",
      "F1: 0.9777347531461762\n",
      "Matriz de Confusão:\n",
      " [[492  16]\n",
      " [  7 518]]\n",
      "mean squared error:\n",
      " 0.022265246853823813\n",
      "\n",
      "\n",
      "K: 4\n",
      "Precisão: 0.7577519379844961\n",
      "Revocação: 0.7577519379844961\n",
      "F1: 0.7577519379844961\n",
      "Matriz de Confusão:\n",
      " [[390 118]\n",
      " [132 392]]\n",
      "mean squared error:\n",
      " 0.24224806201550386\n",
      "Precisão: 0.8265503875968992\n",
      "Revocação: 0.8265503875968992\n",
      "F1: 0.8265503875968992\n",
      "Matriz de Confusão:\n",
      " [[429  79]\n",
      " [100 424]]\n",
      "mean squared error:\n",
      " 0.17344961240310078\n",
      "Precisão: 0.8614341085271318\n",
      "Revocação: 0.8614341085271318\n",
      "F1: 0.8614341085271318\n",
      "Matriz de Confusão:\n",
      " [[445  63]\n",
      " [ 80 444]]\n",
      "mean squared error:\n",
      " 0.1385658914728682\n",
      "Precisão: 0.9060077519379846\n",
      "Revocação: 0.9060077519379846\n",
      "F1: 0.9060077519379846\n",
      "Matriz de Confusão:\n",
      " [[462  46]\n",
      " [ 51 473]]\n",
      "mean squared error:\n",
      " 0.0939922480620155\n",
      "Precisão: 0.938953488372093\n",
      "Revocação: 0.938953488372093\n",
      "F1: 0.938953488372093\n",
      "Matriz de Confusão:\n",
      " [[478  30]\n",
      " [ 33 491]]\n",
      "mean squared error:\n",
      " 0.061046511627906974\n",
      "Precisão: 0.9515503875968992\n",
      "Revocação: 0.9515503875968992\n",
      "F1: 0.9515503875968992\n",
      "Matriz de Confusão:\n",
      " [[483  25]\n",
      " [ 25 499]]\n",
      "mean squared error:\n",
      " 0.04844961240310078\n",
      "Precisão: 0.9689922480620154\n",
      "Revocação: 0.9689922480620154\n",
      "F1: 0.9689922480620154\n",
      "Matriz de Confusão:\n",
      " [[485  23]\n",
      " [  9 515]]\n",
      "mean squared error:\n",
      " 0.031007751937984496\n",
      "Precisão: 0.9738372093023255\n",
      "Revocação: 0.9738372093023255\n",
      "F1: 0.9738372093023255\n",
      "Matriz de Confusão:\n",
      " [[487  21]\n",
      " [  6 518]]\n",
      "mean squared error:\n",
      " 0.02616279069767442\n",
      "\n",
      "\n",
      "K: 5\n",
      "Precisão: 0.749031007751938\n",
      "Revocação: 0.749031007751938\n",
      "F1: 0.7490310077519381\n",
      "Matriz de Confusão:\n",
      " [[380 128]\n",
      " [131 393]]\n",
      "mean squared error:\n",
      " 0.250968992248062\n",
      "Precisão: 0.8236434108527132\n",
      "Revocação: 0.8236434108527132\n",
      "F1: 0.8236434108527132\n",
      "Matriz de Confusão:\n",
      " [[415  93]\n",
      " [ 89 435]]\n",
      "mean squared error:\n",
      " 0.17635658914728683\n",
      "Precisão: 0.8682170542635659\n",
      "Revocação: 0.8682170542635659\n",
      "F1: 0.8682170542635659\n",
      "Matriz de Confusão:\n",
      " [[443  65]\n",
      " [ 71 453]]\n",
      "mean squared error:\n",
      " 0.13178294573643412\n",
      "Precisão: 0.9050387596899225\n",
      "Revocação: 0.9050387596899225\n",
      "F1: 0.9050387596899225\n",
      "Matriz de Confusão:\n",
      " [[457  51]\n",
      " [ 47 477]]\n",
      "mean squared error:\n",
      " 0.09496124031007752\n",
      "Precisão: 0.9234496124031008\n",
      "Revocação: 0.9234496124031008\n",
      "F1: 0.9234496124031008\n",
      "Matriz de Confusão:\n",
      " [[465  43]\n",
      " [ 36 488]]\n",
      "mean squared error:\n",
      " 0.07655038759689922\n",
      "Precisão: 0.9563953488372093\n",
      "Revocação: 0.9563953488372093\n",
      "F1: 0.9563953488372093\n",
      "Matriz de Confusão:\n",
      " [[480  28]\n",
      " [ 17 507]]\n",
      "mean squared error:\n",
      " 0.0436046511627907\n",
      "Precisão: 0.9583333333333334\n",
      "Revocação: 0.9583333333333334\n",
      "F1: 0.9583333333333334\n",
      "Matriz de Confusão:\n",
      " [[479  29]\n",
      " [ 14 510]]\n",
      "mean squared error:\n",
      " 0.041666666666666664\n",
      "Precisão: 0.9680232558139535\n",
      "Revocação: 0.9680232558139535\n",
      "F1: 0.9680232558139535\n",
      "Matriz de Confusão:\n",
      " [[486  22]\n",
      " [ 11 513]]\n",
      "mean squared error:\n",
      " 0.03197674418604651\n",
      "\n",
      "\n"
     ]
    }
   ],
   "source": [
    "skf = StratifiedKFold(n_splits=5)\n",
    "fold = 1\n",
    "for train_index, val_index in skf.split(D_train, y_train):\n",
    "  print(\"K:\", fold)\n",
    "  for k in [1, 3, 5, 7, 9, 11,13,15]:\n",
    "    knn_model = KNeighborsClassifier(n_neighbors=k)\n",
    "    knn_model.fit(D_train.values[train_index],\n",
    "              y_train.values[train_index])\n",
    "    \n",
    "    y_val = y_train.values[val_index]\n",
    "    y_hat = knn_model.predict(D_train.values[val_index])\n",
    "    \n",
    "    confusion = confusion_matrix(y_val, y_hat)\n",
    "    precision, recall, fscore, sup = precision_recall_fscore_support(y_val, y_hat, average='micro')\n",
    "    reg_mse = mean_squared_error(y_val, y_hat)\n",
    "    print(\"Precisão:\", precision)\n",
    "    print(\"Revocação:\", recall)\n",
    "    print(\"F1:\", fscore)\n",
    "    print(\"Matriz de Confusão:\\n\", confusion)\n",
    "    print(\"mean squared error:\\n\", reg_mse)\n",
    "  print()\n",
    "  print()\n",
    "  fold += 1"
   ]
  },
  {
   "cell_type": "markdown",
   "metadata": {
    "id": "Mndn8aRi6Xkd"
   },
   "source": [
    "### Relacionando os Resultados - Pergunta 2"
   ]
  },
  {
   "cell_type": "markdown",
   "metadata": {
    "id": "4Mq3WplN6ddj"
   },
   "source": [
    "Agora, os dados serão relacionados com os fatos históricos mais notáveis que ocorreram no país durante os períodos retratados. Evidentemente, a quantidade de queimadas, uma questão bastante multifatorial, não se deve à apenas resoluções do governo federal e presidência. No entanto, será colocado um principal fato de cada governo que, de forma razoável e interessante, auxilie na análise de verificação dos impactos nesse valor.\n",
    "No governo de Fernando Henrique Cardoso, em 1998, foi assinado um veto ao artigo que proibia queimadas na Lei de Crimes Contra o Meio Ambiente, aprovada durante o seu próprio governo. Com isso, percebe-se o aumento imediato, devido ao incentivo gerado pelo veto, no número de queimadas já em 1999, mantendo-se em uma crescente taxa até o fim de seu segundo mandato.\n",
    "Com o início do governo de Lula, essa quantidade de queimadas atingiu o valor recorde. No entanto, os valores começaram a diminuir a cada ano seguinte durante seus dois mandatos devido à criação do Plano de Prevenção e Controle do Desmatamento na Amazônia Legal, que auxiliou na queda dos valores na principal área de foco até então.\n",
    "Já no período de governo de Dilma Rousseff, percebe-se outro aumento considerável das queimadas. Isso é explicado, especialmente, pelo corte de gastos realizados na prevenção e combate ao desmatamento, tal como cortes consideráveis no plano citado e apresentado durante o governo Lula. A queda de 72% desses gastos, portanto, é possivelmente o principal motivo para os níveis mais altos de quantidade de queimadas durante todo o seu período na presidência.\n",
    "Por último, no único ano de governo de Michel Temer presente nos dados, verifica-se uma grande diminuição em relação aos dois anos anteriores. A principal medida que levou à isso, ao contrário de incentivos propostos pelo governo à criação de áreas para mineração, é a recomposição do orçamento do Ibama com recursos do Fundo Amazônia e outras organizações que auxiliam na prevenção do desmatamento, o que permitiu a retomada da fiscalização já no ano de 2017.\n"
   ]
  },
  {
   "cell_type": "markdown",
   "metadata": {
    "id": "wq9sbG4BWw_-"
   },
   "source": [
    "## *Pergunta 3 - Há uma mudança de estado que mais sofre com as queimadas com o passar do tempo?*\n"
   ]
  },
  {
   "cell_type": "markdown",
   "metadata": {
    "id": "gnExVnEnOzPg"
   },
   "source": [
    "Separando os dados por região"
   ]
  },
  {
   "cell_type": "code",
   "execution_count": null,
   "metadata": {
    "id": "w_x5Aq2wW5cx"
   },
   "outputs": [],
   "source": [
    "df_norte = df.query(\n",
    "    \"Estado == 'Acre' or Estado == 'Amapá' or Estado == 'Amazonas' or Estado == 'Pará' or Estado == 'Rondônia' or Estado == 'Roraima' or Estado == 'Tocantins'\"\n",
    ")\n",
    "df_centro_oeste = df.query(\n",
    "    \"Estado == 'Goiás' or Estado == 'Mato Grosso' or Estado == 'Mato Grosso do Sul' or Estado == 'Distrito Federal'\"\n",
    ")\n",
    "df_nordeste = df.query(\n",
    "    \"Estado == 'Alagoas' or Estado == 'Bahia' or Estado == 'Ceará' or Estado == 'Maranhão' or Estado == 'Paraíba' or Estado == 'Pernambuco' or Estado == 'Piauí' or Estado == 'Rio Grande do Norte' or Estado == 'Sergipe'\"\n",
    ")\n",
    "df_sudeste = df.query(\n",
    "    \"Estado == 'Espírito Santo' or Estado == 'Minas Gerais' or Estado == 'Rio de Janeiro' or Estado == 'São Paulo'\"\n",
    ")\n",
    "df_sul = df.query(\n",
    "    \"Estado == 'Paraná' or Estado == 'Rio Grande do Sul' or Estado == 'Santa Catarina'\"\n",
    ")\n"
   ]
  },
  {
   "cell_type": "markdown",
   "metadata": {
    "id": "zlEsNzMkO2v6"
   },
   "source": [
    "Importando as informações geográficas do Brasil"
   ]
  },
  {
   "cell_type": "code",
   "execution_count": null,
   "metadata": {
    "id": "5igJ_MZ0d2Al"
   },
   "outputs": [],
   "source": [
    "# importando dados geograficos do Brasil\n",
    "with urlopen(\n",
    "    \"https://raw.githubusercontent.com/codeforamerica/click_that_hood/master/public/data/brazil-states.geojson\"\n",
    ") as response:\n",
    "    Brazil = json.load(response)  # Javascrip object notation\n",
    "\n",
    "state_id_map = {}\n",
    "for feature in Brazil[\"features\"]:\n",
    "    feature[\"id\"] = feature[\"properties\"][\"name\"]\n",
    "    state_id_map[feature[\"properties\"][\"sigla\"]] = feature[\"id\"]"
   ]
  },
  {
   "cell_type": "markdown",
   "metadata": {
    "id": "4xqyEDh4EIEP"
   },
   "source": [
    "Importante: É possível que os gráficos abaixo não sejam carregados ao rodar esse notebook através do Google Colab. Idealmente, rode esse notebook localmente para que os gráficos interativos sejam mostrados da melhor forma."
   ]
  },
  {
   "cell_type": "markdown",
   "metadata": {
    "id": "Uu_reS12PDFF"
   },
   "source": [
    "Antes de vermos o mapa completo do Brasil, analisaremos o comportamento de cada uma das regiões ao longo do tempo de modo a tentar reduzir as distorções que um gráfico com todas as regiões brasileiras causaria. Como as regiões têm biomas parecidos, essa parece ser uma boa métrica para dividir essa análise antes de olharmos para o país como um todo."
   ]
  },
  {
   "cell_type": "markdown",
   "metadata": {
    "id": "uIGf_sP0AlHy"
   },
   "source": [
    "### Região Norte\n",
    "\n"
   ]
  },
  {
   "cell_type": "code",
   "execution_count": null,
   "metadata": {
    "id": "1HOQYS8Bd15K"
   },
   "outputs": [],
   "source": [
    "fig_norte = px.choropleth_mapbox(\n",
    "    df_norte,\n",
    "    locations=\"Estado\",\n",
    "    geojson=Brazil,  # informacoes geograficas do Brasil\n",
    "    color=\"Número\",\n",
    "    color_continuous_scale=\"Viridis\",\n",
    "    mapbox_style=\"carto-positron\",\n",
    "    hover_name=\"Estado\",  # the information in the box\n",
    "    hover_data=[\"Número\"], # a coluna de interesse\n",
    "    center={\"lat\": -3.966559, \"lon\": -57.385635},  # centra o mapa na regiao Norte\n",
    "    zoom=3.2,\n",
    "    opacity=0.8,\n",
    "    animation_frame=\"Ano\",  # baseia a mudanca de plots nos anos\n",
    ")\n",
    "\n",
    "\n",
    "fig_norte.update_layout(margin={\"r\": 0, \"t\": 0, \"l\": 0, \"b\": 0})\n",
    "fig_norte.update_geos(fitbounds=\"locations\", visible=False)\n",
    "fig_norte.show()"
   ]
  },
  {
   "cell_type": "markdown",
   "metadata": {
    "id": "z_trknniSguX"
   },
   "source": [
    "Aqui podemos ver que o Pará é o estado da Região Norte que apresenta o maior número de ocorrências de queimadas. Roraima e Amapá tem alguns picos, ao longo do período, assim como o Amazonas.A tendência dos últimos anos é de aumento de queimadas na região como um todo, mas com foco principal bastante destacado no estado do Pará."
   ]
  },
  {
   "cell_type": "markdown",
   "metadata": {
    "id": "-9eDISKGQvPl"
   },
   "source": [
    "### Região Nordeste"
   ]
  },
  {
   "cell_type": "code",
   "execution_count": null,
   "metadata": {
    "id": "VtUQO7ajQxpN"
   },
   "outputs": [],
   "source": [
    "fig_nordeste = px.choropleth_mapbox(\n",
    "    df_nordeste,\n",
    "    locations=\"Estado\",\n",
    "    geojson=Brazil,  \n",
    "    color=\"Número\",\n",
    "    color_continuous_scale=\"Viridis\",\n",
    "    mapbox_style=\"carto-positron\",\n",
    "    hover_name=\"Estado\",  \n",
    "    hover_data=[\"Número\"],\n",
    "    center={\"lat\": -8.384370, \"lon\": -40.888867},  # centers in nordeste\n",
    "    zoom=3.3,\n",
    "    opacity=0.8,\n",
    "    animation_frame=\"Ano\",  \n",
    ")\n",
    "\n",
    "fig_nordeste.update_layout(margin={\"r\": 0, \"t\": 0, \"l\": 0, \"b\": 0})\n",
    "fig_nordeste.update_geos(fitbounds=\"locations\", visible=False)\n",
    "fig_nordeste.show()"
   ]
  },
  {
   "cell_type": "markdown",
   "metadata": {
    "id": "qSWpPGrZQzvX"
   },
   "source": [
    "O Maranhão é o estado da Região Nordeste que mais se destaca na no número de ocorrências de queimadas, tendo essa dominância durante todo o período. Bahia  e Ceará possuem alguns picos ao longo desse tempo, principalmente nos períodos entre 2013 e 2016, quando essa região foi mais afetadas por focos de incêndios."
   ]
  },
  {
   "cell_type": "markdown",
   "metadata": {
    "id": "8qSzZYz5Q0Fh"
   },
   "source": [
    "### Região Centro-Oeste"
   ]
  },
  {
   "cell_type": "code",
   "execution_count": null,
   "metadata": {
    "id": "6LCfqCckQ3Rr"
   },
   "outputs": [],
   "source": [
    "fig_centro_oeste = px.choropleth_mapbox(\n",
    "    df_centro_oeste,\n",
    "    locations=\"Estado\",\n",
    "    geojson=Brazil, \n",
    "    color=\"Número\",\n",
    "    color_continuous_scale=\"Viridis\",\n",
    "    mapbox_style=\"carto-positron\",\n",
    "    hover_name=\"Estado\",  \n",
    "    hover_data=[\"Número\"],\n",
    "    center={\"lat\": -15.319302, \"lon\": -52.978053},  # centers in centro-oeste\n",
    "    zoom=3.4,\n",
    "    opacity=0.8,\n",
    "    animation_frame=\"Ano\",  \n",
    ")\n",
    "\n",
    "fig_centro_oeste.update_layout(margin={\"r\": 0, \"t\": 0, \"l\": 0, \"b\": 0})\n",
    "fig_centro_oeste.update_geos(fitbounds=\"locations\", visible=False)\n",
    "fig_centro_oeste.show()"
   ]
  },
  {
   "cell_type": "markdown",
   "metadata": {
    "id": "4WMkY301Q3hC"
   },
   "source": [
    "O estado do Mato Grosso domina o número de ocorrências de queimadas registrado na região Centro-Oeste durante esse período. Apesar da dominância, o número geral de queimadas registradas não é tão alto como na região Norte, por exemplo."
   ]
  },
  {
   "cell_type": "markdown",
   "metadata": {
    "id": "bhrSYFnWQ3ju"
   },
   "source": [
    "### Região Sudeste"
   ]
  },
  {
   "cell_type": "code",
   "execution_count": null,
   "metadata": {
    "id": "mX9PH0qrQ-lD"
   },
   "outputs": [],
   "source": [
    "fig_sudeste = px.choropleth_mapbox(\n",
    "    df_sudeste,\n",
    "    locations=\"Estado\",\n",
    "    geojson=Brazil, \n",
    "    color=\"Número\",\n",
    "    color_continuous_scale=\"Viridis\",\n",
    "    mapbox_style=\"carto-positron\",\n",
    "    hover_name=\"Estado\", \n",
    "    hover_data=[\"Número\"],\n",
    "    center={\"lat\": -19.420684, \"lon\": -44.867503},  # centers in nordeste\n",
    "    zoom=3.7,\n",
    "    opacity=0.8,\n",
    "    animation_frame=\"Ano\",  \n",
    ")\n",
    "\n",
    "fig_sudeste.update_layout(margin={\"r\": 0, \"t\": 0, \"l\": 0, \"b\": 0})\n",
    "fig_sudeste.update_geos(fitbounds=\"locations\", visible=False)\n",
    "fig_sudeste.show()"
   ]
  },
  {
   "cell_type": "markdown",
   "metadata": {
    "id": "RDxMsRGNRAYd"
   },
   "source": [
    "Na Região Sudeste Minas Gerais e São Paulo se revezam como líderes de números de queimadas registradas, mas, no Geral, Minas Gerais domina essas estatísticas. Ao longo do período, 2009, 2013 e 2015 foram os anos com  maiores registros nesses dois estados, com uma decadência leve ao fim do período."
   ]
  },
  {
   "cell_type": "markdown",
   "metadata": {
    "id": "_11KhNm_RAbP"
   },
   "source": [
    "### Região Sul"
   ]
  },
  {
   "cell_type": "code",
   "execution_count": null,
   "metadata": {
    "id": "M7CvXLiARDah"
   },
   "outputs": [],
   "source": [
    "fig_sul = px.choropleth_mapbox(\n",
    "    df_sul,\n",
    "    locations=\"Estado\",\n",
    "    geojson=Brazil,  \n",
    "    color=\"Número\",\n",
    "    color_continuous_scale=\"Viridis\",\n",
    "    mapbox_style=\"carto-positron\",\n",
    "    hover_name=\"Estado\",  \n",
    "    hover_data=[\"Número\"],\n",
    "    center={\"lat\": -27.549380, \"lon\": -51.459026},  # centers in nordeste\n",
    "    zoom=3.8,\n",
    "    opacity=0.8,\n",
    "    animation_frame=\"Ano\", \n",
    ")\n",
    "\n",
    "\n",
    "fig_sul.update_layout(margin={\"r\": 0, \"t\": 0, \"l\": 0, \"b\": 0})\n",
    "fig_sul.update_geos(fitbounds=\"locations\", visible=False)\n",
    "fig_sul.show()"
   ]
  },
  {
   "cell_type": "markdown",
   "metadata": {
    "id": "6j2_GDsURGC1"
   },
   "source": [
    "Na Região Sul do país Paraná e Rio Grande do Sul são os estados com maiores registros de números de queimadas. O Rio Grande do Sul, proporcionalmente para a região, parece ter sido bastante afetado durante o ano de 1998 e nos períodos mais antigos, enquanto o Paraná parece surgir com números maiores ao longo do tempo, com uma leve tendência de alta.\n"
   ]
  },
  {
   "cell_type": "markdown",
   "metadata": {
    "id": "gin3yWzhRGhh"
   },
   "source": [
    "Agora, o país como um todo"
   ]
  },
  {
   "cell_type": "markdown",
   "metadata": {
    "id": "bDOFwnuhRJ7R"
   },
   "source": [
    "### Número de queimadas registradas por estado no Brasil (1998-2017)"
   ]
  },
  {
   "cell_type": "code",
   "execution_count": null,
   "metadata": {
    "id": "sNILrNsURK9N"
   },
   "outputs": [],
   "source": [
    "fig_brasil = px.choropleth_mapbox(\n",
    "    df,\n",
    "    locations=\"Estado\",\n",
    "    geojson=Brazil,  \n",
    "    color=\"Número\",\n",
    "    color_continuous_scale=\"Viridis\",\n",
    "    mapbox_style=\"carto-positron\",\n",
    "    hover_name=\"Estado\",  \n",
    "    hover_data=[\"Número\"],\n",
    "    center={\"lat\": -15.793889, \"lon\": -47.882778},  # centers in Brazil\n",
    "    zoom=2.2,\n",
    "    opacity=0.8,\n",
    "    animation_frame=\"Ano\",  \n",
    "    title=\"Número de ocorrências de queimadas registradas no Brasil (1998-2017)\",\n",
    ")\n",
    "\n",
    "fig_brasil.update_layout(margin={\"r\": 0, \"t\": 0, \"l\": 0, \"b\": 0})\n",
    "fig_brasil.update_geos(fitbounds=\"locations\", visible=False)\n",
    "fig_brasil.show()"
   ]
  },
  {
   "cell_type": "markdown",
   "metadata": {
    "id": "4Ue5WocXRNIW"
   },
   "source": [
    "Vendo o Brasil como um todo, podemos perceber que a região Norte domina os registros de número de queimadas no país, com uma alta bastante considerável nos anos mais recentes por números bastante altos do estado do Pará. O Centro-Oeste, inicialmente, é a região que fica em seguida nesse número de registros, mas que, com o passar do tempo, chega a ser superada pela Região Nordeste, que mantém essa dominância no ranking até os períodos mais recentes - quando a alta na região Centro-Oeste volta a alcançar essa região. Por fim, no Sul e Sudeste a tendência não é muito clara e parece haver uma baixa variabilidade nos dados, sendo a região Sul a parte do país com menor número de ocorrências registradas ao longo desse período."
   ]
  },
  {
   "cell_type": "markdown",
   "metadata": {
    "id": "nS9NkSlyWzm1"
   },
   "source": [
    "## *Pergunta 4 - O tipo de produto Cultivado em uma região, tem relação com o número de incêndios ocorrido nessa mesma região?*\n"
   ]
  },
  {
   "cell_type": "markdown",
   "metadata": {
    "id": "L9ZM9im4hO90"
   },
   "source": [
    "A princípio tivemos a ideia de fazer a pergunta se havia um bioma que mais sofria com os incêndios. Após nos familiarizarmos com a base de dados e fazer algumas explorações iniciais vimos que essa pergunta tinha muito em comum com a pergunta anterior, então nos veio uma pergunta que parecia mais interessante e mais diferente:\n",
    "Existe uma relação entre o tipo de produto cultivado pela agricultura e o número de incêndios florestais na região?"
   ]
  },
  {
   "cell_type": "markdown",
   "metadata": {
    "id": "SW-ERVDNwCQK"
   },
   "source": [
    "Para fazer essa análise pegamos uma lista com os 10 principais produtos agrícolas do país, essa lista foi retirada do site: https://diarural.com.br/voce-sabe-quais-sao-os-10-principais-produtos-agricolas-no-brasil/\n",
    "e com base nos dados fornecidos na página https://sidra.ibge.gov.br/tabela/1612 iremos responder a questão.\n",
    "\n",
    "Note que não há dados no site sobre os produtos Café, Laranja, Tabaco e Cacau, portanto trabalharemos com os outros 6.\n",
    "\n",
    "O que será analisado é a relação entre a produção em toneladas do produto e o número de incêndios em um determinado estado."
   ]
  },
  {
   "cell_type": "markdown",
   "metadata": {
    "id": "JpEnI7tTwC15"
   },
   "source": [
    "Para isso usaremos o rendimento médio da produção do estado para cada produto em quilo por hectare."
   ]
  },
  {
   "cell_type": "code",
   "execution_count": null,
   "metadata": {
    "id": "6lEoPsnBW6B2"
   },
   "outputs": [],
   "source": [
    "algodao = pd.read_csv('https://raw.githubusercontent.com/userhv/Forest-Fires-in-Brazil/main/database_plus/Algodao.csv')\n",
    "arroz = pd.read_csv('https://raw.githubusercontent.com/userhv/Forest-Fires-in-Brazil/main/database_plus/Arroz.csv')\n",
    "cana = pd.read_csv ('https://raw.githubusercontent.com/userhv/Forest-Fires-in-Brazil/main/database_plus/Cana.csv')\n",
    "mandioca = pd.read_csv ('https://raw.githubusercontent.com/userhv/Forest-Fires-in-Brazil/main/database_plus/Mandioca.csv')\n",
    "milho = pd.read_csv ('https://raw.githubusercontent.com/userhv/Forest-Fires-in-Brazil/main/database_plus/Milho.csv')\n",
    "soja = pd.read_csv ('https://raw.githubusercontent.com/userhv/Forest-Fires-in-Brazil/main/database_plus/Soja.csv')\n",
    "Norte = ['Acre', 'Rondônia', 'Roraima', 'Amazonas', 'Pará', 'Amapá', 'Tocantins']\n",
    "Nordeste = ['Maranhão', 'Pernambuco', 'Sergipe', 'Bahia', 'Piauí', 'Ceará', 'Rio Grande do Norte', 'Paraíba', 'Alagoas']\n",
    "Centro_Oeste = ['Mato Grosso', 'Mato Grosso do Sul', 'Goiás', 'Distrito Federal']\n",
    "Sudeste = ['Minas Gerais', 'Rio de Janeiro', 'São Paulo', 'Espírito Santo']\n",
    "Sul = ['Paraná', 'Santa Catarina', 'Rio Grande do Sul']"
   ]
  },
  {
   "cell_type": "markdown",
   "metadata": {
    "id": "MSRqLFzZ8meG"
   },
   "source": [
    "Faremos agora um pré-processamento dos dados para prepará-los para as análises."
   ]
  },
  {
   "cell_type": "code",
   "execution_count": null,
   "metadata": {
    "id": "sjFwyFNtXFrb"
   },
   "outputs": [],
   "source": [
    "def converte_valores (df):\n",
    "  for column in df.columns:\n",
    "    df[column] = pd.to_numeric(df[column], errors='coerce')"
   ]
  },
  {
   "cell_type": "code",
   "execution_count": null,
   "metadata": {
    "id": "lo3UVq6YYImm"
   },
   "outputs": [],
   "source": [
    "def prepara_plot (df):\n",
    "  df = df.set_index('Unidade da Federação')\n",
    "  converte_valores(df)\n",
    "  df = df.T.rename_axis('Ano').reset_index().set_index('Ano')\n",
    "  return df"
   ]
  },
  {
   "cell_type": "code",
   "execution_count": null,
   "metadata": {
    "id": "gSJtTwPtJf_7"
   },
   "outputs": [],
   "source": [
    "algodao = prepara_plot(algodao)\n",
    "arroz = prepara_plot(arroz)\n",
    "cana = prepara_plot (cana)\n",
    "soja = prepara_plot(soja)\n",
    "mandioca = prepara_plot(mandioca)\n",
    "milho = prepara_plot(milho)"
   ]
  },
  {
   "cell_type": "code",
   "execution_count": null,
   "metadata": {
    "id": "xuP5UMLTMwKD"
   },
   "outputs": [],
   "source": [
    "def agrupa_prod (df):\n",
    "  n = np.zeros(len(df.index))\n",
    "  ne = np.zeros(len(df.index))\n",
    "  co = np.zeros(len(df.index))\n",
    "  se = np.zeros(len(df.index))\n",
    "  s = np.zeros(len(df.index))\n",
    "  for coluna in df.columns:\n",
    "    i = 0\n",
    "    for item in df[coluna]:\n",
    "      if (not(np.isnan(item))):\n",
    "        if coluna in Norte:\n",
    "            n[i] = n[i]+item\n",
    "        elif coluna in Nordeste:\n",
    "            ne[i] = ne[i]+item\n",
    "        elif coluna in Centro_Oeste:\n",
    "            co[i] = co[i]+item\n",
    "        elif coluna in Sudeste:\n",
    "            se[i] = se[i]+item\n",
    "        elif coluna in Sul:\n",
    "            s[i] = s[i]+item\n",
    "      i += 1\n",
    "  regioes = pd.DataFrame(n, index = df.index, columns = [\"Prod_Norte\"])\n",
    "  aux = np.asarray(ne)\n",
    "  regioes[\"Prod_Nordeste\"] = aux\n",
    "  aux = np.asarray(co)\n",
    "  regioes[\"Prod_Centro_Oeste\"] = aux\n",
    "  aux = np.asarray(s)\n",
    "  regioes[\"Prod_Sul\"] = aux\n",
    "  aux = np.asarray(se)\n",
    "  regioes[\"Prod_Sudeste\"] = aux\n",
    "  return regioes"
   ]
  },
  {
   "cell_type": "code",
   "execution_count": null,
   "metadata": {
    "id": "GeDDexN1MICw"
   },
   "outputs": [],
   "source": [
    "regioes_algodao = agrupa_prod(algodao)\n",
    "regioes_arroz = agrupa_prod(arroz)\n",
    "regioes_cana = agrupa_prod(cana)\n",
    "regioes_soja = agrupa_prod(soja)\n",
    "regioes_mandioca = agrupa_prod(mandioca)\n",
    "regioes_milho = agrupa_prod(milho)"
   ]
  },
  {
   "cell_type": "markdown",
   "metadata": {
    "id": "vy00iNR-8u5M"
   },
   "source": []
  },
  {
   "cell_type": "code",
   "execution_count": null,
   "metadata": {
    "id": "d7mChXjqwgKb"
   },
   "outputs": [],
   "source": [
    "def agrupa_incendios (df, quantidade_anos, df2):\n",
    "  i=0\n",
    "  n = np.zeros(quantidade_anos)\n",
    "  ne = np.zeros(quantidade_anos)\n",
    "  co = np.zeros(quantidade_anos)\n",
    "  se = np.zeros(quantidade_anos)\n",
    "  s = np.zeros(quantidade_anos)\n",
    "  for linha in df.iterrows():\n",
    "    if i > 19:\n",
    "      i = 0\n",
    "    if (not(np.isnan(linha[1][\"Número\"]))):\n",
    "      if linha[1][\"Estado\"] in Norte:\n",
    "          n[i] = n[i]+linha[1][\"Número\"]\n",
    "      elif linha[1][\"Estado\"] in Nordeste:\n",
    "          ne[i] = ne[i]+linha[1][\"Número\"]\n",
    "      elif linha[1][\"Estado\"] in Centro_Oeste:\n",
    "          co[i] = co[i]+linha[1][\"Número\"]\n",
    "      elif linha[1][\"Estado\"] in Sudeste:\n",
    "          se[i] = se[i]+linha[1][\"Número\"]\n",
    "      elif linha[1][\"Estado\"] in Sul:\n",
    "          s[i] = s[i]+linha[1][\"Número\"]\n",
    "      i += 1\n",
    "  regioes = pd.DataFrame(n, index = df2.index, columns = [\"Norte\"])\n",
    "  aux = np.asarray(ne)\n",
    "  regioes[\"Nordeste\"] = aux\n",
    "  aux = np.asarray(co)\n",
    "  regioes[\"Centro_Oeste\"] = aux\n",
    "  aux = np.asarray(s)\n",
    "  regioes[\"Sul\"] = aux\n",
    "  aux = np.asarray(se)\n",
    "  regioes[\"Sudeste\"] = aux\n",
    "  return regioes"
   ]
  },
  {
   "cell_type": "code",
   "execution_count": null,
   "metadata": {
    "id": "jisEvk4RwiLI"
   },
   "outputs": [],
   "source": [
    "incendios = agrupa_incendios(df, 20, algodao)\n",
    "algodao = incendios.join(regioes_algodao)\n",
    "arroz = incendios.join(regioes_arroz)\n",
    "cana = incendios.join(regioes_cana)\n",
    "mandioca = incendios.join(regioes_mandioca)\n",
    "milho = incendios.join(regioes_milho)\n",
    "soja = incendios.join(regioes_soja)"
   ]
  },
  {
   "cell_type": "markdown",
   "metadata": {
    "id": "a8FTfNPQ8zX0"
   },
   "source": [
    "Note que: O que estamos querendo encontrar é uma correlação entre o tipo de produto produzido em uma região e o número de focos de incêndio dessa mesma região, para começar a analisar isso vamos primeiro plotar os pares ordenados (produção X numero de focos)."
   ]
  },
  {
   "cell_type": "code",
   "execution_count": null,
   "metadata": {
    "id": "IvEPOkJOwiUr"
   },
   "outputs": [],
   "source": [
    "algodao.plot.scatter('Norte', 'Prod_Norte')\n",
    "algodao.plot.scatter('Nordeste', 'Prod_Nordeste')\n",
    "algodao.plot.scatter('Centro_Oeste', 'Prod_Centro_Oeste')\n",
    "algodao.plot.scatter('Sudeste', 'Prod_Sudeste')\n",
    "algodao.plot.scatter('Sul', 'Prod_Sul')"
   ]
  },
  {
   "cell_type": "code",
   "execution_count": null,
   "metadata": {
    "id": "gzVhlacRwifC"
   },
   "outputs": [],
   "source": [
    "arroz.plot.scatter('Norte', 'Prod_Norte')\n",
    "arroz.plot.scatter('Nordeste', 'Prod_Nordeste')\n",
    "arroz.plot.scatter('Centro_Oeste', 'Prod_Centro_Oeste')\n",
    "arroz.plot.scatter('Sudeste', 'Prod_Sudeste')\n",
    "arroz.plot.scatter('Sul', 'Prod_Sul')"
   ]
  },
  {
   "cell_type": "code",
   "execution_count": null,
   "metadata": {
    "id": "nL0KT8xhwimJ"
   },
   "outputs": [],
   "source": [
    "cana.plot.scatter('Norte', 'Prod_Norte')\n",
    "cana.plot.scatter('Nordeste', 'Prod_Nordeste')\n",
    "cana.plot.scatter('Centro_Oeste', 'Prod_Centro_Oeste')\n",
    "cana.plot.scatter('Sudeste', 'Prod_Sudeste')\n",
    "cana.plot.scatter('Sul', 'Prod_Sul')"
   ]
  },
  {
   "cell_type": "code",
   "execution_count": null,
   "metadata": {
    "id": "ybC0ycSGw5Nx"
   },
   "outputs": [],
   "source": [
    "milho.plot.scatter('Norte', 'Prod_Norte')\n",
    "milho.plot.scatter('Nordeste', 'Prod_Nordeste')\n",
    "milho.plot.scatter('Centro_Oeste', 'Prod_Centro_Oeste')\n",
    "milho.plot.scatter('Sudeste', 'Prod_Sudeste')\n",
    "milho.plot.scatter('Sul', 'Prod_Sul')"
   ]
  },
  {
   "cell_type": "code",
   "execution_count": null,
   "metadata": {
    "id": "OPkohWFg-eHd"
   },
   "outputs": [],
   "source": [
    "mandioca.plot.scatter('Norte', 'Prod_Norte')\n",
    "mandioca.plot.scatter('Nordeste', 'Prod_Nordeste')\n",
    "mandioca.plot.scatter('Centro_Oeste', 'Prod_Centro_Oeste')\n",
    "mandioca.plot.scatter('Sudeste', 'Prod_Sudeste')\n",
    "mandioca.plot.scatter('Sul', 'Prod_Sul')"
   ]
  },
  {
   "cell_type": "code",
   "execution_count": null,
   "metadata": {
    "id": "q8N_I5Rk-eoE"
   },
   "outputs": [],
   "source": [
    "soja.plot.scatter('Norte', 'Prod_Norte')\n",
    "soja.plot.scatter('Nordeste', 'Prod_Nordeste')\n",
    "soja.plot.scatter('Centro_Oeste', 'Prod_Centro_Oeste')\n",
    "soja.plot.scatter('Sudeste', 'Prod_Sudeste')\n",
    "soja.plot.scatter('Sul', 'Prod_Sul')"
   ]
  },
  {
   "cell_type": "markdown",
   "metadata": {
    "id": "89bDFiqb-vGz"
   },
   "source": [
    "Podemos notar que aperentemente existe pouca relação entre o número de focos de incêndios e a produção da região, mas para termos certeza disso, calcularemos a correlação entre as duas variáveis."
   ]
  },
  {
   "cell_type": "code",
   "execution_count": null,
   "metadata": {
    "id": "mH_bi7a-_Gxr"
   },
   "outputs": [],
   "source": [
    "def corr(x, y):df[\"Número\"].sort_values()\n",
    "    n = len(x)\n",
    "    x_m = x - np.mean(x)\n",
    "    x_m = x_m / np.std(x, ddof=1)\n",
    "    y_m = y - np.mean(y)\n",
    "    y_m = y_m / np.std(y, ddof=1)\n",
    "    return (x_m * y_m).sum() / (n - 1)"
   ]
  },
  {
   "cell_type": "code",
   "execution_count": null,
   "metadata": {
    "id": "6Ao-hMRA_Ii8"
   },
   "outputs": [],
   "source": [
    "print (corr(algodao['Norte'], algodao['Prod_Norte']))\n",
    "print (corr(algodao['Nordeste'], algodao['Prod_Nordeste']))\n",
    "print (corr(algodao['Centro_Oeste'], algodao['Prod_Centro_Oeste']))\n",
    "print (corr(algodao['Sul'], algodao['Prod_Sul']))\n",
    "print (corr(algodao['Sudeste'], algodao['Prod_Sudeste']))"
   ]
  },
  {
   "cell_type": "code",
   "execution_count": null,
   "metadata": {
    "id": "WBhbhyg6_K4S"
   },
   "outputs": [],
   "source": [
    "print (corr(arroz['Norte'], arroz['Prod_Norte']))\n",
    "print (corr(arroz['Nordeste'], arroz['Prod_Nordeste']))\n",
    "print (corr(arroz['Centro_Oeste'], arroz['Prod_Centro_Oeste']))\n",
    "print (corr(arroz['Sul'], arroz['Prod_Sul']))\n",
    "print (corr(arroz['Sudeste'], arroz['Prod_Sudeste']))"
   ]
  },
  {
   "cell_type": "code",
   "execution_count": null,
   "metadata": {
    "id": "poAs7PQS_ND2"
   },
   "outputs": [],
   "source": [
    "print (corr(cana['Norte'], cana['Prod_Norte']))\n",
    "print (corr(cana['Nordeste'], cana['Prod_Nordeste']))\n",
    "print (corr(cana['Centro_Oeste'], cana['Prod_Centro_Oeste']))\n",
    "print (corr(cana['Sul'], cana['Prod_Sul']))\n",
    "print (corr(cana['Sudeste'], cana['Prod_Sudeste']))"
   ]
  },
  {
   "cell_type": "code",
   "execution_count": null,
   "metadata": {
    "id": "1bsmXjbq_PfP"
   },
   "outputs": [],
   "source": [
    "print (corr(mandioca['Norte'], mandioca['Prod_Norte']))\n",
    "print (corr(mandioca['Nordeste'], mandioca['Prod_Nordeste']))\n",
    "print (corr(mandioca['Centro_Oeste'], mandioca['Prod_Centro_Oeste']))\n",
    "print (corr(mandioca['Sul'], mandioca['Prod_Sul']))\n",
    "print (corr(mandioca['Sudeste'], mandioca['Prod_Sudeste']))"
   ]
  },
  {
   "cell_type": "code",
   "execution_count": null,
   "metadata": {
    "id": "6yW5Lpiz_Ryr"
   },
   "outputs": [],
   "source": [
    "print (corr(milho['Norte'], milho['Prod_Norte']))\n",
    "print (corr(milho['Nordeste'], milho['Prod_Nordeste']))\n",
    "print (corr(milho['Centro_Oeste'], milho['Prod_Centro_Oeste']))\n",
    "print (corr(milho['Sul'], milho['Prod_Sul']))\n",
    "print (corr(milho['Sudeste'], milho['Prod_Sudeste']))"
   ]
  },
  {
   "cell_type": "code",
   "execution_count": null,
   "metadata": {
    "id": "JDZMVgfp_V0Y"
   },
   "outputs": [],
   "source": [
    "print (corr(soja['Norte'], soja['Prod_Norte']))\n",
    "print (corr(soja['Nordeste'], soja['Prod_Nordeste']))\n",
    "print (corr(soja['Centro_Oeste'], soja['Prod_Centro_Oeste']))\n",
    "print (corr(soja['Sul'], soja['Prod_Sul']))\n",
    "print (corr(soja['Sudeste'], soja['Prod_Sudeste']))"
   ]
  },
  {
   "cell_type": "markdown",
   "metadata": {
    "id": "J7aHC4QA_cYT"
   },
   "source": [
    "Podemos notar algo curioso com essa análise, de fato, pra grande maioria dos produtos podemos ver pouca correlação entre o número de focos e a produção, porém três casos merecem serem notados.\n",
    "Para os produtos Cana, Mandioca e Milho na região Centro-Oeste há uma correlação positiva considerável.\n",
    "Ou seja, a medida que a produção em quilo por hectare de cana e mandioca aumenta, o número de focos de incêndio na região aumenta também.\n"
   ]
  }
 ],
 "metadata": {
  "colab": {
   "collapsed_sections": [
    "HuNEY3XjFyAq",
    "_L1cmCYZGEqi",
    "e7KKxnpVN4U4",
    "jBptXLWMXis5",
    "gk0VcYSEUqEk",
    "_VfsF0JV6uDy",
    "MMWJZMloxY9H",
    "7dPYJuzlyAFN",
    "BIksWJN2ydJ5",
    "s_ymMFECyVLD",
    "Mndn8aRi6Xkd"
   ],
   "name": "tp-ICD.ipynb",
   "provenance": []
  },
  "kernelspec": {
   "display_name": "Python 3",
   "language": "python",
   "name": "python3"
  },
  "language_info": {
   "codemirror_mode": {
    "name": "ipython",
    "version": 3
   },
   "file_extension": ".py",
   "mimetype": "text/x-python",
   "name": "python",
   "nbconvert_exporter": "python",
   "pygments_lexer": "ipython3",
   "version": "3.8.5"
  }
 },
 "nbformat": 4,
 "nbformat_minor": 1
}
